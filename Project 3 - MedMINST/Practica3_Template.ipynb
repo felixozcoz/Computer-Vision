{
 "cells": [
  {
   "cell_type": "markdown",
   "metadata": {
    "id": "6XRxHiKdGHiT"
   },
   "source": [
    "## Image classification with deep learning methods.\n",
    "\n",
    "-- Description --\n",
    "\n",
    "When you train the network, it is recommended to use the GPU resources of your computer.\n",
    "This will help you to learn the \"know how\" of setting up a working Python environment on your computer.\n",
    "In the case of unavailable Nvidia hardware or problems with your Python environment you can use Google Colab.\n",
    "Please go to the menu, Runtime - Change runtime type, and select **GPU** as the hardware accelerator.\n",
    "Although you used your computer successfuly it is highly recommended to give a try to Google Colab environment.\n"
   ]
  },
  {
   "cell_type": "code",
   "execution_count": null,
   "metadata": {
    "id": "Eq1KWmR3HWYV"
   },
   "outputs": [],
   "source": [
    "# Import libraries\n",
    "# These libraries should be sufficient for this Practice.\n",
    "# However, if any other library is needed, please install it by yourself.\n",
    "\n",
    "import torch\n",
    "import torch.nn as nn\n",
    "import torch.nn.functional as F\n",
    "import torch.optim as optim\n",
    "import torchvision.transforms as transforms\n",
    "import torch.utils.data as data\n",
    "import numpy as np\n",
    "import time\n",
    "import os\n",
    "import random\n",
    "import matplotlib.pyplot as plt\n",
    "from matplotlib import colors\n",
    "from PIL import Image\n",
    "from tqdm import tqdm\n",
    "from sklearn.metrics import roc_auc_score"
   ]
  },
  {
   "cell_type": "code",
   "execution_count": null,
   "metadata": {
    "id": "AjMm2LTvVT-f"
   },
   "outputs": [],
   "source": [
    "# Install and import the MedMNIST package and datasets.\n",
    "\n",
    "!pip install medmnist\n",
    "import medmnist\n",
    "from medmnist import info"
   ]
  },
  {
   "cell_type": "markdown",
   "metadata": {
    "id": "w4TX-CXBHW4c"
   },
   "source": [
    "## Download the imaging dataset\n",
    "\n",
    "You can browse the imaging datasets on their webpage https://medmnist.com/, and download them as such:\n"
   ]
  },
  {
   "cell_type": "code",
   "execution_count": null,
   "metadata": {
    "id": "GvH6SWlDQBMf"
   },
   "outputs": [],
   "source": [
    "from medmnist import BloodMNIST\n",
    "\n",
    "dataset = BloodMNIST(split=\"test\", download=True, size= 128) #Choose your own!"
   ]
  },
  {
   "cell_type": "markdown",
   "metadata": {
    "id": "Opt6Dn_FCD7y"
   },
   "source": [
    "## Visualize the imaging dataset\n",
    "\n",
    "You can find relevant information about the datasets in the info.INFO dictionary.\n",
    "\n",
    "For visualizing the images, you can use the montage method, though we recomend\n",
    "you practice accesing the individual images and labels.\n",
    "\n"
   ]
  },
  {
   "cell_type": "code",
   "execution_count": null,
   "metadata": {
    "id": "GMVmgmpHGrtx"
   },
   "outputs": [],
   "source": [
    "# Your code\n"
   ]
  },
  {
   "cell_type": "markdown",
   "metadata": {
    "id": "3ok-SBMwUXf1"
   },
   "source": [
    "#Generate a dataloader\n",
    "\n",
    "A convinient option for accessing data in torch is with the use of the Dataloader class. These work directly when given a MNIST dataset as input.\n",
    "You can also apply any necesary preprocesing steps directly as you load the data with the Transforms package and the transform MNIST argument.\n",
    "\n",
    "Choose apropiate values for the training hiperparameters (you can experiment with sampling strategies if you want) and implement the adecuate preprocesing steps. Finally, choose an Mnist dataset and create the dataloader for the training, validation and test splits."
   ]
  },
  {
   "cell_type": "code",
   "execution_count": null,
   "metadata": {
    "id": "2z44gQHEUhry"
   },
   "outputs": [],
   "source": [
    "# Parameters\n",
    "NUM_EPOCHS = #?\n",
    "BATCH_SIZE = #?\n",
    "lr = #?\n",
    "\n",
    "im_size = #?\n",
    "in_channels = #?\n",
    "num_classes = #?\n",
    "\n",
    "# Load and preprocess data\n",
    "#Your code\n",
    "\n",
    "#Define loss function and optimizer\n",
    "#Your code\n"
   ]
  },
  {
   "cell_type": "markdown",
   "metadata": {
    "id": "dn-gr3Y1dhc0"
   },
   "source": [
    "#Create a deep learning model"
   ]
  },
  {
   "cell_type": "code",
   "execution_count": null,
   "metadata": {
    "id": "X8OH_2iLU6oZ"
   },
   "outputs": [],
   "source": [
    "# Define a simple CNN model\n",
    "\n",
    "class Net(nn.Module):\n",
    "    def __init__(self, in_channels, num_classes, im_size):\n",
    "        super(Net, self).__init__()\n",
    "        #Define the desired deep learning model\n",
    "        #Your code\n",
    "\n",
    "        #End your code\n",
    "\n",
    "    def forward(self, x):\n",
    "        #Your code\n",
    "\n",
    "        #End your code\n",
    "\n",
    "model = Net(in_channels=in_channels, num_classes=num_classes, im_size = im_size)\n",
    "\n"
   ]
  },
  {
   "cell_type": "markdown",
   "metadata": {
    "id": "HtKObx-HVuaG"
   },
   "source": [
    "#Train Model\n",
    "\n",
    "Implement the main traning loop to train the deep learning model.\n",
    "This should include the forward and backward passes. You can find information about how to do this with torch in https://pytorch.org/tutorials/beginner/pytorch_with_examples.html#id14"
   ]
  },
  {
   "cell_type": "code",
   "execution_count": null,
   "metadata": {
    "id": "ENrFXnaOVt0i"
   },
   "outputs": [],
   "source": [
    "# Train the model\n",
    "\n",
    "for epoch in range(NUM_EPOCHS):\n",
    "\n",
    "    model.train()\n",
    "    for inputs, targets in tqdm(train_loader):\n",
    "        # forward + backward + optimize\n",
    "\n",
    "        #Your code\n"
   ]
  },
  {
   "cell_type": "markdown",
   "metadata": {
    "id": "RFgraWehfxGu"
   },
   "source": [
    "#Evaluation\n",
    "\n",
    "Finally, implement the evaluation of the object clasification task. You can implement any metric you want, though the most common are accuracy and AUC (one class against all for the multiclass task). You can use torch.no_grad() for speeding up predictions when no gradients are needed.\n",
    "\n",
    "How do you compare with the MedMNIST benchmarks?"
   ]
  },
  {
   "cell_type": "code",
   "execution_count": null,
   "metadata": {
    "id": "NXT5ny4wVv_G"
   },
   "outputs": [],
   "source": [
    "# Evaluation\n",
    "\n",
    "# Your code\n"
   ]
  }
 ],
 "metadata": {
  "accelerator": "GPU",
  "colab": {
   "provenance": []
  },
  "gpuClass": "standard",
  "kernelspec": {
   "display_name": "Python 3",
   "language": "python",
   "name": "python3"
  },
  "language_info": {
   "codemirror_mode": {
    "name": "ipython",
    "version": 3
   },
   "file_extension": ".py",
   "mimetype": "text/x-python",
   "name": "python",
   "nbconvert_exporter": "python",
   "pygments_lexer": "ipython3",
   "version": "3.6.15"
  }
 },
 "nbformat": 4,
 "nbformat_minor": 1
}
