{
  "cells": [
    {
      "cell_type": "markdown",
      "metadata": {
        "id": "6XRxHiKdGHiT"
      },
      "source": [
        "## Image classification with deep learning methods.\n",
        "\n",
        "-- Description --\n",
        "\n",
        "When you train the network, it is recommended to use the GPU resources of your computer.\n",
        "This will help you to learn the \"know how\" of setting up a working Python environment on your computer.\n",
        "In the case of unavailable Nvidia hardware or problems with your Python environment you can use Google Colab.\n",
        "Please go to the menu, Runtime - Change runtime type, and select **GPU** as the hardware accelerator.\n",
        "Although you used your computer successfuly it is highly recommended to give a try to Google Colab environment.\n"
      ]
    },
    {
      "cell_type": "code",
      "execution_count": 46,
      "metadata": {
        "colab": {
          "base_uri": "https://localhost:8080/"
        },
        "id": "Eq1KWmR3HWYV",
        "outputId": "7d01f960-dc8c-4125-f194-a8d52532d1f2"
      },
      "outputs": [
        {
          "output_type": "stream",
          "name": "stdout",
          "text": [
            "Requirement already satisfied: medmnist in /usr/local/lib/python3.10/dist-packages (3.0.1)\n",
            "Requirement already satisfied: numpy in /usr/local/lib/python3.10/dist-packages (from medmnist) (1.25.2)\n",
            "Requirement already satisfied: pandas in /usr/local/lib/python3.10/dist-packages (from medmnist) (2.0.3)\n",
            "Requirement already satisfied: scikit-learn in /usr/local/lib/python3.10/dist-packages (from medmnist) (1.2.2)\n",
            "Requirement already satisfied: scikit-image in /usr/local/lib/python3.10/dist-packages (from medmnist) (0.19.3)\n",
            "Requirement already satisfied: tqdm in /usr/local/lib/python3.10/dist-packages (from medmnist) (4.66.2)\n",
            "Requirement already satisfied: Pillow in /usr/local/lib/python3.10/dist-packages (from medmnist) (9.4.0)\n",
            "Requirement already satisfied: fire in /usr/local/lib/python3.10/dist-packages (from medmnist) (0.6.0)\n",
            "Requirement already satisfied: torch in /usr/local/lib/python3.10/dist-packages (from medmnist) (2.2.1+cu121)\n",
            "Requirement already satisfied: torchvision in /usr/local/lib/python3.10/dist-packages (from medmnist) (0.17.1+cu121)\n",
            "Requirement already satisfied: six in /usr/local/lib/python3.10/dist-packages (from fire->medmnist) (1.16.0)\n",
            "Requirement already satisfied: termcolor in /usr/local/lib/python3.10/dist-packages (from fire->medmnist) (2.4.0)\n",
            "Requirement already satisfied: python-dateutil>=2.8.2 in /usr/local/lib/python3.10/dist-packages (from pandas->medmnist) (2.8.2)\n",
            "Requirement already satisfied: pytz>=2020.1 in /usr/local/lib/python3.10/dist-packages (from pandas->medmnist) (2023.4)\n",
            "Requirement already satisfied: tzdata>=2022.1 in /usr/local/lib/python3.10/dist-packages (from pandas->medmnist) (2024.1)\n",
            "Requirement already satisfied: scipy>=1.4.1 in /usr/local/lib/python3.10/dist-packages (from scikit-image->medmnist) (1.11.4)\n",
            "Requirement already satisfied: networkx>=2.2 in /usr/local/lib/python3.10/dist-packages (from scikit-image->medmnist) (3.3)\n",
            "Requirement already satisfied: imageio>=2.4.1 in /usr/local/lib/python3.10/dist-packages (from scikit-image->medmnist) (2.31.6)\n",
            "Requirement already satisfied: tifffile>=2019.7.26 in /usr/local/lib/python3.10/dist-packages (from scikit-image->medmnist) (2024.4.18)\n",
            "Requirement already satisfied: PyWavelets>=1.1.1 in /usr/local/lib/python3.10/dist-packages (from scikit-image->medmnist) (1.6.0)\n",
            "Requirement already satisfied: packaging>=20.0 in /usr/local/lib/python3.10/dist-packages (from scikit-image->medmnist) (24.0)\n",
            "Requirement already satisfied: joblib>=1.1.1 in /usr/local/lib/python3.10/dist-packages (from scikit-learn->medmnist) (1.4.0)\n",
            "Requirement already satisfied: threadpoolctl>=2.0.0 in /usr/local/lib/python3.10/dist-packages (from scikit-learn->medmnist) (3.4.0)\n",
            "Requirement already satisfied: filelock in /usr/local/lib/python3.10/dist-packages (from torch->medmnist) (3.13.4)\n",
            "Requirement already satisfied: typing-extensions>=4.8.0 in /usr/local/lib/python3.10/dist-packages (from torch->medmnist) (4.11.0)\n",
            "Requirement already satisfied: sympy in /usr/local/lib/python3.10/dist-packages (from torch->medmnist) (1.12)\n",
            "Requirement already satisfied: jinja2 in /usr/local/lib/python3.10/dist-packages (from torch->medmnist) (3.1.3)\n",
            "Requirement already satisfied: fsspec in /usr/local/lib/python3.10/dist-packages (from torch->medmnist) (2023.6.0)\n",
            "Requirement already satisfied: nvidia-cuda-nvrtc-cu12==12.1.105 in /usr/local/lib/python3.10/dist-packages (from torch->medmnist) (12.1.105)\n",
            "Requirement already satisfied: nvidia-cuda-runtime-cu12==12.1.105 in /usr/local/lib/python3.10/dist-packages (from torch->medmnist) (12.1.105)\n",
            "Requirement already satisfied: nvidia-cuda-cupti-cu12==12.1.105 in /usr/local/lib/python3.10/dist-packages (from torch->medmnist) (12.1.105)\n",
            "Requirement already satisfied: nvidia-cudnn-cu12==8.9.2.26 in /usr/local/lib/python3.10/dist-packages (from torch->medmnist) (8.9.2.26)\n",
            "Requirement already satisfied: nvidia-cublas-cu12==12.1.3.1 in /usr/local/lib/python3.10/dist-packages (from torch->medmnist) (12.1.3.1)\n",
            "Requirement already satisfied: nvidia-cufft-cu12==11.0.2.54 in /usr/local/lib/python3.10/dist-packages (from torch->medmnist) (11.0.2.54)\n",
            "Requirement already satisfied: nvidia-curand-cu12==10.3.2.106 in /usr/local/lib/python3.10/dist-packages (from torch->medmnist) (10.3.2.106)\n",
            "Requirement already satisfied: nvidia-cusolver-cu12==11.4.5.107 in /usr/local/lib/python3.10/dist-packages (from torch->medmnist) (11.4.5.107)\n",
            "Requirement already satisfied: nvidia-cusparse-cu12==12.1.0.106 in /usr/local/lib/python3.10/dist-packages (from torch->medmnist) (12.1.0.106)\n",
            "Requirement already satisfied: nvidia-nccl-cu12==2.19.3 in /usr/local/lib/python3.10/dist-packages (from torch->medmnist) (2.19.3)\n",
            "Requirement already satisfied: nvidia-nvtx-cu12==12.1.105 in /usr/local/lib/python3.10/dist-packages (from torch->medmnist) (12.1.105)\n",
            "Requirement already satisfied: triton==2.2.0 in /usr/local/lib/python3.10/dist-packages (from torch->medmnist) (2.2.0)\n",
            "Requirement already satisfied: nvidia-nvjitlink-cu12 in /usr/local/lib/python3.10/dist-packages (from nvidia-cusolver-cu12==11.4.5.107->torch->medmnist) (12.4.127)\n",
            "Requirement already satisfied: MarkupSafe>=2.0 in /usr/local/lib/python3.10/dist-packages (from jinja2->torch->medmnist) (2.1.5)\n",
            "Requirement already satisfied: mpmath>=0.19 in /usr/local/lib/python3.10/dist-packages (from sympy->torch->medmnist) (1.3.0)\n"
          ]
        }
      ],
      "source": [
        "# Import libraries\n",
        "# These libraries should be sufficient for this Practice.\n",
        "# However, if any other library is needed, please install it by yourself.\n",
        "\n",
        "import torch\n",
        "import torch.nn as nn\n",
        "import torch.nn.functional as F\n",
        "import torch.optim as optim\n",
        "import torchvision.transforms as transforms\n",
        "import torch.utils.data as data\n",
        "import numpy as np\n",
        "import time\n",
        "import os\n",
        "import random\n",
        "import matplotlib.pyplot as plt\n",
        "from matplotlib import colors\n",
        "from PIL import Image\n",
        "from tqdm import tqdm\n",
        "from sklearn.metrics import roc_auc_score\n",
        "from torchvision import datasets, transforms\n",
        "import matplotlib.pyplot as plt\n",
        "import tensorflow as tf\n",
        "\n",
        "!pip install medmnist\n",
        "import medmnist\n",
        "from medmnist import *"
      ]
    },
    {
      "cell_type": "code",
      "execution_count": 41,
      "metadata": {
        "colab": {
          "base_uri": "https://localhost:8080/"
        },
        "id": "GvH6SWlDQBMf",
        "outputId": "35a20496-9946-405d-a6cf-084b36d6eede"
      },
      "outputs": [
        {
          "output_type": "stream",
          "name": "stdout",
          "text": [
            "Using downloaded and verified file: /root/.medmnist/bloodmnist.npz\n",
            "Using downloaded and verified file: /root/.medmnist/bloodmnist.npz\n",
            "Using downloaded and verified file: /root/.medmnist/bloodmnist.npz\n"
          ]
        }
      ],
      "source": [
        "# Parameters\n",
        "NUM_EPOCHS = 20\n",
        "BATCH_SIZE = 32\n",
        "lr = 0.0001\n",
        "DOWNLOAD_OK = True\n",
        "data_flag = 'bloodmnist'\n",
        "#data_flag = 'pneumomnist'\n",
        "im_size = 64\n",
        "info = INFO[data_flag]\n",
        "task = info['task']\n",
        "n_channels = info['n_channels']\n",
        "num_classes = len(info['label'])\n",
        "N_IMAGES = 1000\n",
        "data_labels = info['label']\n",
        "\n",
        "# Tupla que contiene los valores asociados a los parámetros mostrados anteriormente,\n",
        "# con el fin de mejorar la organización de dichos parámetros.\n",
        "parameters = {\"num_epochs\": NUM_EPOCHS, \"batch_size\": BATCH_SIZE, \"lr\": lr, \"download_ok\": DOWNLOAD_OK,\n",
        "              \"data_flag\": data_flag, \"im_size\": im_size,\"info_task\": task, \"n_channels\": n_channels,\n",
        "              \"num_classes\": num_classes,\"n_images\":N_IMAGES, \"data_labels\": data_labels}\n",
        "\n",
        "# Preprocesado de datos mediante la definición de la transformación de datos\n",
        "def preprocessing_data(parameters):\n",
        "  data_transform = transforms.Compose([\n",
        "    transforms.Resize((parameters[\"im_size\"],parameters[\"im_size\"])),\n",
        "    transforms.ToTensor(),\n",
        "    transforms.Normalize(mean=[.5], std=[.5])\n",
        "  ])\n",
        "\n",
        "  full_train_dataset = BloodMNIST(split=\"train\", transform=data_transform, download=True)\n",
        "  full_valid_dataset = BloodMNIST(split=\"val\", transform=data_transform, download=True)\n",
        "  full_test_dataset = BloodMNIST(split=\"test\", transform=data_transform, download=True)\n",
        "\n",
        "  idx_train = np.random.choice(len(full_train_dataset),size=1000,replace=False)\n",
        "  train_dataset = [full_train_dataset[i] for i in idx_train]\n",
        "\n",
        "  idx_valid = np.random.choice(len(full_valid_dataset),size=300,replace=False)\n",
        "  valid_dataset = [full_valid_dataset[i] for i in idx_valid]\n",
        "\n",
        "  idx_test = np.random.choice(len(full_test_dataset),size=600,replace=False)\n",
        "  test_dataset = [full_test_dataset[i] for i in idx_test]\n",
        "\n",
        "  train_loader = data.DataLoader(dataset=train_dataset, batch_size=parameters[\"batch_size\"], shuffle=True)\n",
        "  valid_loader = data.DataLoader(dataset=valid_dataset, batch_size=parameters[\"batch_size\"], shuffle=False)\n",
        "  test_loader = data.DataLoader(dataset=test_dataset, batch_size=parameters[\"batch_size\"], shuffle=True)\n",
        "\n",
        "  return train_loader, valid_loader, test_loader, train_dataset, valid_dataset, test_dataset\n",
        "\n",
        "train_loader,valid_loader,test_loader,train_dataset,valid_dataset,test_dataset = preprocessing_data(parameters)"
      ]
    },
    {
      "cell_type": "code",
      "execution_count": null,
      "metadata": {
        "id": "GMVmgmpHGrtx"
      },
      "outputs": [],
      "source": [
        "## Your code\n",
        "\n",
        "# Función que permite visualizar los aspectos fundamentales sobre cada\n",
        "# dataset que se haya descargado/cargado previamente.\n",
        "def dataset_visualizer(dataset,length_montage):\n",
        "  for i in range(0,length_montage*length_montage):\n",
        "    img = dataset[i][0]\n",
        "    label = str(dataset[i][1]).replace('[','').replace(']','')\n",
        "    figure = plt.figure(figsize=(2,2))\n",
        "    plt.imshow(img.permute(1,2,0))\n",
        "    plt.title(data_labels[label])\n",
        "    plt.axis(\"off\")\n",
        "  plt.show()\n",
        "\n",
        "# Visualizador de las imágenes a través de un pipeline DataLoader\n",
        "def dataloader_visualizer(data_loader,num_batches):\n",
        "  for batch_idx, (features, labels) in enumerate(data_loader):\n",
        "      if batch_idx >= num_batches:\n",
        "        break\n",
        "      for i in range(len(features)):\n",
        "        img = features[i].squeeze()\n",
        "        label = str(labels[i]).replace('tensor([','').replace('])','')\n",
        "        plt.figure(figsize=(2,2))\n",
        "        plt.title(label)\n",
        "        plt.imshow(img.permute(1,2,0))\n",
        "        plt.axis('off')\n",
        "        plt.show()\n",
        "\n",
        "def net_model_visualizer(net_model):\n",
        "  print(net_model)\n",
        "  print('Total Parameters:',\n",
        "       sum([torch.numel(p) for p in net_model.parameters()])\n",
        "  )\n",
        "  print('Trainable Parameters:',\n",
        "       sum([torch.numel(p) for p in net_model.parameters() if p.requires_grad])\n",
        "  )\n",
        "dataset_visualizer(train_dataset,5)\n",
        "\n",
        "#dataloader_visualizer(train_loader,1)\n",
        "#dataloader_visualizer(valid_loader,1)\n",
        "#dataloader_visualizer(test_loader,1)"
      ]
    },
    {
      "cell_type": "code",
      "execution_count": 47,
      "metadata": {
        "id": "X8OH_2iLU6oZ",
        "colab": {
          "base_uri": "https://localhost:8080/",
          "height": 140
        },
        "outputId": "ad0be9a3-0320-4ec6-9a7a-72a86ce72e16"
      },
      "outputs": [
        {
          "output_type": "execute_result",
          "data": {
            "text/plain": [
              "'\\nclass ResNet18(nn.Module):\\n  def __init__(self,parameters):\\n    super(ResNet18, self).__init__()\\n\\n    self.conv1 = nn.Conv2d(parameters[\"n_channels\"],64,7,2,3)\\n    self.bn1 = nn.BatchNorm2d(64)\\n    self.maxpool = nn.MaxPool2d(3,2,1)\\n\\n    self.conv2_block1 = nn.Sequential(\\n        nn.Conv2d(64,64,3,1,1),\\n        nn.BatchNorm2d(64),\\n        nn.ReLU(True),\\n        nn.Conv2d(64,64,3,1,1),\\n        nn.BatchNorm2d(64)\\n    )\\n\\n    self.conv2_block2 = nn.Sequential(\\n        nn.Conv2d(64,64,3,1,1),\\n        nn.BatchNorm2d(64),\\n        nn.ReLU(True),\\n        nn.Conv2d(64,64,3,1,1),\\n        nn.BatchNorm2d(64)\\n    )\\n\\n    self.conv3_block1 = nn.Sequential(\\n        nn.Conv2d(64,128,3,2,1),\\n        nn.BatchNorm2d(128),\\n        nn.ReLU(True),\\n        nn.Conv2d(128,128,3,1,1),\\n        nn.BatchNorm2d(128)\\n    )\\n\\n    self.conv3_block2 = nn.Sequential(\\n        nn.Conv2d(128,128,3,1,1),\\n        nn.BatchNorm2d(128),\\n        nn.ReLU(True),\\n        nn.Conv2d(128,128,3,1,1),\\n        nn.BatchNorm2d(128)\\n    )\\n\\n    self.conv4_block1 = nn.Sequential(\\n        nn.Conv2d(128,256,3,2,1),\\n        nn.BatchNorm2d(256),\\n        nn.ReLU(True),\\n        nn.Conv2d(256,256,3,1,1),\\n        nn.BatchNorm2d(256)\\n    )\\n\\n    self.conv4_block2 = nn.Sequential(\\n        nn.Conv2d(256,256,3,1,1),\\n        nn.BatchNorm2d(256),\\n        nn.ReLU(True),\\n        nn.Conv2d(256,256,3,1,1),\\n        nn.BatchNorm2d(256)\\n    )\\n\\n    self.conv5_block1 = nn.Sequential(\\n        nn.Conv2d(256,512,3,2,1),\\n        nn.BatchNorm2d(512),\\n        nn.ReLU(True),\\n        nn.Conv2d(512,512,3,1,1),\\n        nn.BatchNorm2d(512)\\n    )\\n\\n    self.conv5_block2 = nn.Sequential(\\n        nn.Conv2d(512,512,3,1,1),\\n        nn.BatchNorm2d(512),\\n        nn.ReLU(True),\\n        nn.Conv2d(512,512,3,1,1),\\n        nn.BatchNorm2d(512)\\n    )\\n\\n    self.avgpool = nn.AdaptiveAvgPool2d(output_size=(1,1))\\n    self.fc = nn.Linear(512,parameters[\"num_classes\"])\\n\\n  def forward(self,x):\\n    print(x.shape)\\n    x = self.conv1(x)\\n    x = self.bn1(x)\\n    x = self.maxpool(x)\\n\\n    print(x.shape)\\n    x = self.conv2_block1(x)\\n    x = self.conv2_block2(x)\\n    x = self.conv3_block1(x)\\n    x = self.conv3_block2(x)\\n    x = self.conv4_block1(x)\\n    x = self.conv4_block2(x)\\n    x = self.conv5_block1(x)\\n    x = self.conv5_block2(x)\\n\\n    x = self.avgpool(x)\\n    x = self.fc(x)\\n\\n    return x\\n'"
            ],
            "application/vnd.google.colaboratory.intrinsic+json": {
              "type": "string"
            }
          },
          "metadata": {},
          "execution_count": 47
        }
      ],
      "source": [
        "# Define a simple CNN model\n",
        "\n",
        "def convolution(in_channels,out_channels):\n",
        "  layer = nn.Sequential(\n",
        "      nn.Conv2d(in_channels,out_channels,3),\n",
        "      nn.ReLU(),\n",
        "      nn.MaxPool2d(2,2)\n",
        "  )\n",
        "  return layer\n",
        "\n",
        "def double_convultion(in_channels,out_channels):\n",
        "  conv_op = nn.Sequential(\n",
        "      nn.Conv2d(in_channels,out_channels,3),\n",
        "      nn.ReLU(),\n",
        "      nn.Conv2d(out_channels,out_channels,3),\n",
        "      nn.ReLU()\n",
        "  )\n",
        "  return conv_op\n",
        "\n",
        "\"\"\"\n",
        "class Net(nn.Module):\n",
        "    def __init__(self, parameters):\n",
        "        super(Net, self).__init__()\n",
        "\n",
        "        self.layer1 = convolution(parameters[\"n_channels\"],8)\n",
        "        self.layer2 = convolution(8,16)\n",
        "        self.layer3 = convolution(16,32)\n",
        "        self.layer4 = convolution(32,64)\n",
        "\n",
        "        self.fc1 = nn.Linear(64,32)\n",
        "        self.drop1 = nn.Dropout(0.33)\n",
        "        self.relu1 = nn.ReLU()\n",
        "        self.fc2 = nn.Linear(32,parameters[\"num_classes\"])\n",
        "\n",
        "        #End your code\n",
        "\n",
        "    def forward(self, x):\n",
        "        x = self.layer1(x)\n",
        "        x = self.layer2(x)\n",
        "        x = self.layer3(x)\n",
        "        x = self.layer4(x)\n",
        "\n",
        "        x = F.adaptive_avg_pool2d(x,1).reshape(x.size(0),-1)\n",
        "\n",
        "        x = self.fc1(x)\n",
        "        x = self.drop1(x)\n",
        "        x = self.relu1(x)\n",
        "        x = self.fc2(x)\n",
        "\n",
        "        return x\n",
        "\"\"\"\n",
        "class UNetCNN(nn.Module):\n",
        "  def __init__(self,parameters):\n",
        "    super(UNetCNN,self).__init__()\n",
        "\n",
        "    self.max_pool2d = nn.MaxPool2d(2,2)\n",
        "\n",
        "    self.down_conv1 = double_convultion(parameters[\"n_channels\"],8)\n",
        "    self.down_conv2 = double_convultion(8,16)\n",
        "    self.down_conv3 = double_convultion(16,32)\n",
        "    self.down_conv4 = double_convultion(32,64)\n",
        "    self.down_conv5 = double_convultion(64,128)\n",
        "\n",
        "    self.up_trans1 = nn.ConvTranspose2d(128,64,2,2)\n",
        "    self.up_conv1 = double_convultion(128,64)\n",
        "    self.up_trans2 = nn.ConvTranspose2d(64,32,2,2)\n",
        "    self.up_conv2 = double_convultion(64,32)\n",
        "    self.up_trans3 = nn.ConvTranspose2d(32,16,2,2)\n",
        "    self.up_conv3 = double_convultion(32,16)\n",
        "    self.up_trans4 = nn.ConvTranspose2d(16,8,2,2)\n",
        "    self.up_conv4 = double_convultion(16,8)\n",
        "\n",
        "    self.final_layer = nn.Conv2d(8,parameters[\"num_classes\"],1)\n",
        "\n",
        "  def forward(self,x):\n",
        "    print(x.shape)\n",
        "    down1 = self.down_conv1(x)\n",
        "    print(down1.shape)\n",
        "    down2 = self.max_pool2d(down1)\n",
        "    print(down2.shape)\n",
        "    down3 = self.down_conv2(down2)\n",
        "    print(down3.shape)\n",
        "    down4 = self.max_pool2d(down3)\n",
        "    print(down4.shape)\n",
        "    down5 = self.down_conv3(down4)\n",
        "    print(down5.shape)\n",
        "    down6 = self.max_pool2d(down5)\n",
        "    print(down6.shape)\n",
        "    down7 = self.down_conv4(down6)\n",
        "    print(down7.shape)\n",
        "    down8 = self.max_pool2d(down7)\n",
        "    print(down8.shape)\n",
        "    down9 = self.down_conv5(down8)\n",
        "    print(down9.shape)\n",
        "\n",
        "    up1 = self.up_trans1(down9)\n",
        "    print(up1.shape)\n",
        "    x = self.up_conv1(torch.cat([down7,up1],1))\n",
        "\n",
        "    up2 = self.up_trans2(x)\n",
        "    print(up2.shape)\n",
        "    x = self.up_conv2(torch.cat([down5,up2],1))\n",
        "\n",
        "    up3 = self.up_trans3(x)\n",
        "    print(up3.shape)\n",
        "    x = self.up_conv3(torch.cat([down3,up3],1))\n",
        "\n",
        "    up4 = self.up_trans4(x)\n",
        "    print(up4.shape)\n",
        "    x = self.up_conv4(torch.cat([down1,up4],1))\n",
        "\n",
        "    final_layer = self.final_layer(x)\n",
        "    return final_layer\n",
        "\n",
        "\"\"\"\n",
        "class ResNet18(nn.Module):\n",
        "  def __init__(self,parameters):\n",
        "    super(ResNet18, self).__init__()\n",
        "\n",
        "    self.conv1 = nn.Conv2d(parameters[\"n_channels\"],64,7,2,3)\n",
        "    self.bn1 = nn.BatchNorm2d(64)\n",
        "    self.maxpool = nn.MaxPool2d(3,2,1)\n",
        "\n",
        "    self.conv2_block1 = nn.Sequential(\n",
        "        nn.Conv2d(64,64,3,1,1),\n",
        "        nn.BatchNorm2d(64),\n",
        "        nn.ReLU(True),\n",
        "        nn.Conv2d(64,64,3,1,1),\n",
        "        nn.BatchNorm2d(64)\n",
        "    )\n",
        "\n",
        "    self.conv2_block2 = nn.Sequential(\n",
        "        nn.Conv2d(64,64,3,1,1),\n",
        "        nn.BatchNorm2d(64),\n",
        "        nn.ReLU(True),\n",
        "        nn.Conv2d(64,64,3,1,1),\n",
        "        nn.BatchNorm2d(64)\n",
        "    )\n",
        "\n",
        "    self.conv3_block1 = nn.Sequential(\n",
        "        nn.Conv2d(64,128,3,2,1),\n",
        "        nn.BatchNorm2d(128),\n",
        "        nn.ReLU(True),\n",
        "        nn.Conv2d(128,128,3,1,1),\n",
        "        nn.BatchNorm2d(128)\n",
        "    )\n",
        "\n",
        "    self.conv3_block2 = nn.Sequential(\n",
        "        nn.Conv2d(128,128,3,1,1),\n",
        "        nn.BatchNorm2d(128),\n",
        "        nn.ReLU(True),\n",
        "        nn.Conv2d(128,128,3,1,1),\n",
        "        nn.BatchNorm2d(128)\n",
        "    )\n",
        "\n",
        "    self.conv4_block1 = nn.Sequential(\n",
        "        nn.Conv2d(128,256,3,2,1),\n",
        "        nn.BatchNorm2d(256),\n",
        "        nn.ReLU(True),\n",
        "        nn.Conv2d(256,256,3,1,1),\n",
        "        nn.BatchNorm2d(256)\n",
        "    )\n",
        "\n",
        "    self.conv4_block2 = nn.Sequential(\n",
        "        nn.Conv2d(256,256,3,1,1),\n",
        "        nn.BatchNorm2d(256),\n",
        "        nn.ReLU(True),\n",
        "        nn.Conv2d(256,256,3,1,1),\n",
        "        nn.BatchNorm2d(256)\n",
        "    )\n",
        "\n",
        "    self.conv5_block1 = nn.Sequential(\n",
        "        nn.Conv2d(256,512,3,2,1),\n",
        "        nn.BatchNorm2d(512),\n",
        "        nn.ReLU(True),\n",
        "        nn.Conv2d(512,512,3,1,1),\n",
        "        nn.BatchNorm2d(512)\n",
        "    )\n",
        "\n",
        "    self.conv5_block2 = nn.Sequential(\n",
        "        nn.Conv2d(512,512,3,1,1),\n",
        "        nn.BatchNorm2d(512),\n",
        "        nn.ReLU(True),\n",
        "        nn.Conv2d(512,512,3,1,1),\n",
        "        nn.BatchNorm2d(512)\n",
        "    )\n",
        "\n",
        "    self.avgpool = nn.AdaptiveAvgPool2d(output_size=(1,1))\n",
        "    self.fc = nn.Linear(512,parameters[\"num_classes\"])\n",
        "\n",
        "  def forward(self,x):\n",
        "    print(x.shape)\n",
        "    x = self.conv1(x)\n",
        "    x = self.bn1(x)\n",
        "    x = self.maxpool(x)\n",
        "\n",
        "    print(x.shape)\n",
        "    x = self.conv2_block1(x)\n",
        "    x = self.conv2_block2(x)\n",
        "    x = self.conv3_block1(x)\n",
        "    x = self.conv3_block2(x)\n",
        "    x = self.conv4_block1(x)\n",
        "    x = self.conv4_block2(x)\n",
        "    x = self.conv5_block1(x)\n",
        "    x = self.conv5_block2(x)\n",
        "\n",
        "    x = self.avgpool(x)\n",
        "    x = self.fc(x)\n",
        "\n",
        "    return x\n",
        "\"\"\""
      ]
    },
    {
      "cell_type": "code",
      "execution_count": 48,
      "metadata": {
        "colab": {
          "base_uri": "https://localhost:8080/",
          "height": 1000
        },
        "id": "ENrFXnaOVt0i",
        "outputId": "d77dc7b7-d6e0-4bbf-fe73-7acd561e019a"
      },
      "outputs": [
        {
          "output_type": "stream",
          "name": "stderr",
          "text": [
            "100%|██████████| 32/32 [00:01<00:00, 20.66it/s]\n",
            "100%|██████████| 10/10 [00:00<00:00, 35.86it/s]\n",
            "<ipython-input-48-9f035756d4e1>:76: RuntimeWarning: invalid value encountered in scalar divide\n",
            "  precision = tp / (tp + fp)\n"
          ]
        },
        {
          "output_type": "stream",
          "name": "stdout",
          "text": [
            "Accuracy: 0.09333333333333334\n",
            "AUC: 0.4826878656813822\n",
            "F1 Score: nan\n",
            "Confusion Matrix:\n",
            "tensor([[28.,  0.,  0.,  0.,  0.,  0.,  0.,  0.],\n",
            "        [56.,  0.,  0.,  0.,  0.,  0.,  0.,  0.],\n",
            "        [28.,  0.,  0.,  0.,  0.,  0.,  0.,  0.],\n",
            "        [43.,  0.,  0.,  0.,  0.,  0.,  0.,  0.],\n",
            "        [21.,  0.,  0.,  0.,  0.,  0.,  0.,  0.],\n",
            "        [28.,  0.,  0.,  0.,  0.,  0.,  0.,  0.],\n",
            "        [55.,  0.,  0.,  0.,  0.,  0.,  0.,  0.],\n",
            "        [41.,  0.,  0.,  0.,  0.,  0.,  0.,  0.]])\n"
          ]
        },
        {
          "output_type": "stream",
          "name": "stderr",
          "text": [
            "100%|██████████| 32/32 [00:01<00:00, 19.90it/s]\n",
            "100%|██████████| 10/10 [00:00<00:00, 49.74it/s]\n"
          ]
        },
        {
          "output_type": "stream",
          "name": "stdout",
          "text": [
            "Accuracy: 0.14333333333333334\n",
            "AUC: 0.49747633696338794\n",
            "F1 Score: 3.2593220338983047\n",
            "Confusion Matrix:\n",
            "tensor([[ 0.,  0.,  0.,  0.,  0.,  0., 28.,  0.],\n",
            "        [15.,  0.,  0.,  0.,  0.,  0., 41.,  0.],\n",
            "        [ 8.,  0.,  0.,  0.,  0.,  0., 20.,  0.],\n",
            "        [ 2.,  0.,  0.,  0.,  0.,  0., 41.,  0.],\n",
            "        [ 0.,  0.,  0.,  0.,  0.,  0., 21.,  0.],\n",
            "        [ 9.,  0.,  0.,  0.,  0.,  0., 19.,  0.],\n",
            "        [12.,  0.,  0.,  0.,  0.,  0., 43.,  0.],\n",
            "        [41.,  0.,  0.,  0.,  0.,  0.,  0.,  0.]])\n"
          ]
        },
        {
          "output_type": "stream",
          "name": "stderr",
          "text": [
            "100%|██████████| 32/32 [00:01<00:00, 25.44it/s]\n",
            "100%|██████████| 10/10 [00:00<00:00, 50.83it/s]\n"
          ]
        },
        {
          "output_type": "stream",
          "name": "stdout",
          "text": [
            "Accuracy: 0.18333333333333332\n",
            "AUC: 0.48409669542395506\n",
            "F1 Score: 4.505204718945177\n",
            "Confusion Matrix:\n",
            "tensor([[ 0.,  0.,  0.,  0.,  0.,  0., 28.,  0.],\n",
            "        [ 0.,  0.,  0.,  0.,  0.,  0., 56.,  0.],\n",
            "        [ 0.,  0.,  0.,  0.,  0.,  0., 28.,  0.],\n",
            "        [ 0.,  0.,  0.,  0.,  0.,  0., 43.,  0.],\n",
            "        [ 0.,  0.,  0.,  0.,  0.,  0., 21.,  0.],\n",
            "        [ 0.,  0.,  0.,  0.,  0.,  0., 28.,  0.],\n",
            "        [ 0.,  0.,  0.,  0.,  0.,  0., 55.,  0.],\n",
            "        [ 0.,  0.,  0.,  0.,  0.,  0., 41.,  0.]])\n"
          ]
        },
        {
          "output_type": "stream",
          "name": "stderr",
          "text": [
            "100%|██████████| 32/32 [00:01<00:00, 25.65it/s]\n",
            "100%|██████████| 10/10 [00:00<00:00, 50.37it/s]\n"
          ]
        },
        {
          "output_type": "stream",
          "name": "stdout",
          "text": [
            "Accuracy: 0.09666666666666666\n",
            "AUC: 0.4986333158016026\n",
            "F1 Score: 2.48767697954903\n",
            "Confusion Matrix:\n",
            "tensor([[ 0., 10.,  0.,  0.,  0.,  0., 18.,  0.],\n",
            "        [ 0., 27.,  0.,  0.,  0.,  0., 29.,  0.],\n",
            "        [ 0., 25.,  0.,  0.,  0.,  0.,  3.,  0.],\n",
            "        [ 0., 16.,  0.,  0.,  0.,  0., 27.,  0.],\n",
            "        [ 0., 21.,  0.,  0.,  0.,  0.,  0.,  0.],\n",
            "        [ 0.,  2.,  0.,  0.,  0.,  0., 26.,  0.],\n",
            "        [ 0., 53.,  0.,  0.,  0.,  0.,  2.,  0.],\n",
            "        [ 0., 41.,  0.,  0.,  0.,  0.,  0.,  0.]])\n"
          ]
        },
        {
          "output_type": "stream",
          "name": "stderr",
          "text": [
            "100%|██████████| 32/32 [00:01<00:00, 26.42it/s]\n",
            "100%|██████████| 10/10 [00:00<00:00, 51.80it/s]\n"
          ]
        },
        {
          "output_type": "stream",
          "name": "stdout",
          "text": [
            "Accuracy: 0.23333333333333334\n",
            "AUC: 0.5176196259068158\n",
            "F1 Score: 1.7951482479784366\n",
            "Confusion Matrix:\n",
            "tensor([[ 0., 13.,  0., 15.,  0.,  0.,  0.,  0.],\n",
            "        [ 0., 53.,  0.,  3.,  0.,  0.,  0.,  0.],\n",
            "        [ 0., 25.,  0.,  3.,  0.,  0.,  0.,  0.],\n",
            "        [ 0., 26.,  0., 17.,  0.,  0.,  0.,  0.],\n",
            "        [ 0., 21.,  0.,  0.,  0.,  0.,  0.,  0.],\n",
            "        [ 0., 15.,  0., 13.,  0.,  0.,  0.,  0.],\n",
            "        [ 0., 55.,  0.,  0.,  0.,  0.,  0.,  0.],\n",
            "        [ 0., 41.,  0.,  0.,  0.,  0.,  0.,  0.]])\n"
          ]
        },
        {
          "output_type": "stream",
          "name": "stderr",
          "text": [
            "100%|██████████| 32/32 [00:01<00:00, 25.95it/s]\n",
            "100%|██████████| 10/10 [00:00<00:00, 48.17it/s]\n"
          ]
        },
        {
          "output_type": "stream",
          "name": "stdout",
          "text": [
            "Accuracy: 0.3233333333333333\n",
            "AUC: 0.5522888972378074\n",
            "F1 Score: 3.743011280039235\n",
            "Confusion Matrix:\n",
            "tensor([[ 0.,  0.,  0., 28.,  0.,  0.,  0.,  0.],\n",
            "        [ 0., 14.,  0., 22.,  0.,  0., 20.,  0.],\n",
            "        [ 0., 22.,  0.,  6.,  0.,  0.,  0.,  0.],\n",
            "        [ 0.,  4.,  0., 39.,  0.,  0.,  0.,  0.],\n",
            "        [ 0., 10.,  0., 11.,  0.,  0.,  0.,  0.],\n",
            "        [ 0.,  1.,  0., 25.,  0.,  0.,  2.,  0.],\n",
            "        [ 0., 37.,  0., 13.,  0.,  0.,  5.,  0.],\n",
            "        [ 0.,  2.,  0.,  0.,  0.,  0.,  0., 39.]])\n"
          ]
        },
        {
          "output_type": "stream",
          "name": "stderr",
          "text": [
            "100%|██████████| 32/32 [00:01<00:00, 26.54it/s]\n",
            "100%|██████████| 10/10 [00:00<00:00, 52.09it/s]\n"
          ]
        },
        {
          "output_type": "stream",
          "name": "stdout",
          "text": [
            "Accuracy: 0.38\n",
            "AUC: 0.5929937174835096\n",
            "F1 Score: 4.225108225108225\n",
            "Confusion Matrix:\n",
            "tensor([[ 0.,  0.,  0., 25.,  0.,  0.,  3.,  0.],\n",
            "        [ 0.,  6.,  0., 15.,  0.,  0., 34.,  1.],\n",
            "        [ 0., 18.,  0.,  6.,  0.,  0.,  2.,  2.],\n",
            "        [ 0.,  2.,  0., 37.,  0.,  0.,  4.,  0.],\n",
            "        [ 0.,  7.,  0.,  5.,  0.,  0.,  9.,  0.],\n",
            "        [ 0.,  0.,  0., 24.,  0.,  0.,  4.,  0.],\n",
            "        [ 0., 20.,  0.,  5.,  0.,  0., 30.,  0.],\n",
            "        [ 0.,  0.,  0.,  0.,  0.,  0.,  0., 41.]])\n"
          ]
        },
        {
          "output_type": "stream",
          "name": "stderr",
          "text": [
            "100%|██████████| 32/32 [00:01<00:00, 26.00it/s]\n",
            "100%|██████████| 10/10 [00:00<00:00, 52.71it/s]\n"
          ]
        },
        {
          "output_type": "stream",
          "name": "stdout",
          "text": [
            "Accuracy: 0.33\n",
            "AUC: 0.6707105256055792\n",
            "F1 Score: 3.8598540145985405\n",
            "Confusion Matrix:\n",
            "tensor([[ 0.,  0.,  0., 28.,  0.,  0.,  0.,  0.],\n",
            "        [ 0., 12.,  0., 39.,  0.,  0.,  4.,  1.],\n",
            "        [ 0., 16.,  0.,  6.,  0.,  0.,  0.,  6.],\n",
            "        [ 0.,  2.,  0., 41.,  0.,  0.,  0.,  0.],\n",
            "        [ 0., 10.,  0., 11.,  0.,  0.,  0.,  0.],\n",
            "        [ 0.,  0.,  0., 26.,  0.,  0.,  2.,  0.],\n",
            "        [ 0., 36.,  0., 14.,  0.,  0.,  5.,  0.],\n",
            "        [ 0.,  0.,  0.,  0.,  0.,  0.,  0., 41.]])\n"
          ]
        },
        {
          "output_type": "stream",
          "name": "stderr",
          "text": [
            "100%|██████████| 32/32 [00:01<00:00, 20.47it/s]\n",
            "100%|██████████| 10/10 [00:00<00:00, 36.50it/s]\n"
          ]
        },
        {
          "output_type": "stream",
          "name": "stdout",
          "text": [
            "Accuracy: 0.41\n",
            "AUC: 0.7281106434618396\n",
            "F1 Score: 4.519491525423729\n",
            "Confusion Matrix:\n",
            "tensor([[ 0.,  0.,  0., 28.,  0.,  0.,  0.,  0.],\n",
            "        [ 0.,  2.,  0., 45.,  0.,  0.,  8.,  1.],\n",
            "        [ 0.,  6.,  0.,  6.,  0.,  0., 10.,  6.],\n",
            "        [ 0.,  1.,  0., 41.,  0.,  0.,  1.,  0.],\n",
            "        [ 0.,  0.,  0., 13.,  0.,  0.,  8.,  0.],\n",
            "        [ 0.,  0.,  0., 26.,  0.,  0.,  2.,  0.],\n",
            "        [ 0.,  0.,  0., 16.,  0.,  0., 39.,  0.],\n",
            "        [ 0.,  0.,  0.,  0.,  0.,  0.,  0., 41.]])\n"
          ]
        },
        {
          "output_type": "stream",
          "name": "stderr",
          "text": [
            "100%|██████████| 32/32 [00:01<00:00, 20.42it/s]\n",
            "100%|██████████| 10/10 [00:00<00:00, 50.14it/s]\n"
          ]
        },
        {
          "output_type": "stream",
          "name": "stdout",
          "text": [
            "Accuracy: 0.43333333333333335\n",
            "AUC: 0.7694907008470153\n",
            "F1 Score: 4.527509449811004\n",
            "Confusion Matrix:\n",
            "tensor([[ 0.,  0.,  0., 28.,  0.,  0.,  0.,  0.],\n",
            "        [ 0.,  9.,  0., 38.,  0.,  0.,  8.,  1.],\n",
            "        [ 0.,  0.,  0.,  6.,  0.,  0., 14.,  8.],\n",
            "        [ 0.,  1.,  0., 40.,  0.,  0.,  2.,  0.],\n",
            "        [ 0.,  1.,  0., 11.,  0.,  0.,  9.,  0.],\n",
            "        [ 0.,  0.,  0., 26.,  0.,  0.,  2.,  0.],\n",
            "        [ 0.,  2.,  0., 13.,  0.,  0., 40.,  0.],\n",
            "        [ 0.,  0.,  0.,  0.,  0.,  0.,  0., 41.]])\n"
          ]
        },
        {
          "output_type": "stream",
          "name": "stderr",
          "text": [
            "100%|██████████| 32/32 [00:01<00:00, 25.79it/s]\n",
            "100%|██████████| 10/10 [00:00<00:00, 52.04it/s]\n"
          ]
        },
        {
          "output_type": "stream",
          "name": "stdout",
          "text": [
            "Accuracy: 0.43333333333333335\n",
            "AUC: 0.8130944848432128\n",
            "F1 Score: 4.5612903225806445\n",
            "Confusion Matrix:\n",
            "tensor([[ 0.,  0.,  0., 27.,  0.,  0.,  1.,  0.],\n",
            "        [ 0.,  3.,  0., 30.,  0.,  0., 22.,  1.],\n",
            "        [ 0.,  0.,  0.,  6.,  0.,  0., 14.,  8.],\n",
            "        [ 0.,  1.,  0., 40.,  0.,  0.,  2.,  0.],\n",
            "        [ 0.,  0.,  0.,  6.,  0.,  0., 15.,  0.],\n",
            "        [ 0.,  0.,  0., 26.,  0.,  0.,  2.,  0.],\n",
            "        [ 0.,  0.,  0.,  9.,  0.,  0., 46.,  0.],\n",
            "        [ 0.,  0.,  0.,  0.,  0.,  0.,  0., 41.]])\n"
          ]
        },
        {
          "output_type": "stream",
          "name": "stderr",
          "text": [
            "100%|██████████| 32/32 [00:01<00:00, 25.98it/s]\n",
            "100%|██████████| 10/10 [00:00<00:00, 51.35it/s]\n"
          ]
        },
        {
          "output_type": "stream",
          "name": "stdout",
          "text": [
            "Accuracy: 0.46\n",
            "AUC: 0.8204123739850561\n",
            "F1 Score: 4.558512885509084\n",
            "Confusion Matrix:\n",
            "tensor([[ 0.,  1.,  0., 27.,  0.,  0.,  0.,  0.],\n",
            "        [ 0., 15.,  0., 31.,  0.,  0.,  9.,  1.],\n",
            "        [ 0.,  0.,  0.,  6.,  0.,  0., 14.,  8.],\n",
            "        [ 0.,  3.,  0., 38.,  0.,  0.,  2.,  0.],\n",
            "        [ 0.,  7.,  0.,  4.,  0.,  0., 10.,  0.],\n",
            "        [ 0.,  1.,  0., 25.,  0.,  0.,  2.,  0.],\n",
            "        [ 0.,  2.,  0.,  9.,  0.,  0., 44.,  0.],\n",
            "        [ 0.,  0.,  0.,  0.,  0.,  0.,  0., 41.]])\n"
          ]
        },
        {
          "output_type": "stream",
          "name": "stderr",
          "text": [
            "100%|██████████| 32/32 [00:01<00:00, 26.38it/s]\n",
            "100%|██████████| 10/10 [00:00<00:00, 51.75it/s]\n"
          ]
        },
        {
          "output_type": "stream",
          "name": "stdout",
          "text": [
            "Accuracy: 0.43666666666666665\n",
            "AUC: 0.8450394775041108\n",
            "F1 Score: 4.566098945660989\n",
            "Confusion Matrix:\n",
            "tensor([[ 0.,  0.,  0., 27.,  0.,  0.,  1.,  0.],\n",
            "        [ 0.,  5.,  0., 30.,  0.,  0., 20.,  1.],\n",
            "        [ 0.,  0.,  0.,  6.,  0.,  0., 14.,  8.],\n",
            "        [ 0.,  2.,  0., 39.,  0.,  0.,  2.,  0.],\n",
            "        [ 0.,  0.,  0.,  6.,  0.,  0., 15.,  0.],\n",
            "        [ 0.,  1.,  0., 25.,  0.,  0.,  2.,  0.],\n",
            "        [ 0.,  0.,  0.,  9.,  0.,  0., 46.,  0.],\n",
            "        [ 0.,  0.,  0.,  0.,  0.,  0.,  0., 41.]])\n"
          ]
        },
        {
          "output_type": "stream",
          "name": "stderr",
          "text": [
            "100%|██████████| 32/32 [00:01<00:00, 26.60it/s]\n",
            "100%|██████████| 10/10 [00:00<00:00, 46.00it/s]\n"
          ]
        },
        {
          "output_type": "stream",
          "name": "stdout",
          "text": [
            "Accuracy: 0.44333333333333336\n",
            "AUC: 0.8597354590661419\n",
            "F1 Score: 4.575843838958925\n",
            "Confusion Matrix:\n",
            "tensor([[ 0.,  0.,  0., 27.,  0.,  0.,  1.,  0.],\n",
            "        [ 0.,  6.,  0., 31.,  0.,  0., 18.,  1.],\n",
            "        [ 0.,  0.,  0.,  6.,  0.,  0., 14.,  8.],\n",
            "        [ 0.,  1.,  0., 40.,  0.,  0.,  2.,  0.],\n",
            "        [ 0.,  0.,  0.,  7.,  0.,  0., 14.,  0.],\n",
            "        [ 0.,  0.,  0., 26.,  0.,  0.,  2.,  0.],\n",
            "        [ 0.,  0.,  0.,  9.,  0.,  0., 46.,  0.],\n",
            "        [ 0.,  0.,  0.,  0.,  0.,  0.,  0., 41.]])\n"
          ]
        },
        {
          "output_type": "stream",
          "name": "stderr",
          "text": [
            "100%|██████████| 32/32 [00:01<00:00, 26.28it/s]\n",
            "100%|██████████| 10/10 [00:00<00:00, 50.18it/s]\n"
          ]
        },
        {
          "output_type": "stream",
          "name": "stdout",
          "text": [
            "Accuracy: 0.46\n",
            "AUC: 0.8666381902765392\n",
            "F1 Score: 4.5781119465329985\n",
            "Confusion Matrix:\n",
            "tensor([[ 0.,  2.,  0., 26.,  0.,  0.,  0.,  0.],\n",
            "        [ 0., 13.,  0., 30.,  0.,  0., 12.,  1.],\n",
            "        [ 0.,  0.,  0.,  6.,  0.,  0., 14.,  8.],\n",
            "        [ 0.,  2.,  0., 39.,  0.,  0.,  2.,  0.],\n",
            "        [ 0.,  4.,  0.,  6.,  0.,  0., 11.,  0.],\n",
            "        [ 0.,  1.,  0., 25.,  0.,  0.,  2.,  0.],\n",
            "        [ 0.,  1.,  0.,  9.,  0.,  0., 45.,  0.],\n",
            "        [ 0.,  0.,  0.,  0.,  0.,  0.,  0., 41.]])\n"
          ]
        },
        {
          "output_type": "stream",
          "name": "stderr",
          "text": [
            "100%|██████████| 32/32 [00:01<00:00, 26.10it/s]\n",
            "100%|██████████| 10/10 [00:00<00:00, 48.68it/s]\n"
          ]
        },
        {
          "output_type": "stream",
          "name": "stdout",
          "text": [
            "Accuracy: 0.48333333333333334\n",
            "AUC: 0.8670523815518447\n",
            "F1 Score: 4.586826347305389\n",
            "Confusion Matrix:\n",
            "tensor([[ 0.,  3.,  0., 25.,  0.,  0.,  0.,  0.],\n",
            "        [ 0., 23.,  0., 24.,  0.,  0.,  8.,  1.],\n",
            "        [ 0.,  0.,  0.,  6.,  0.,  0., 14.,  8.],\n",
            "        [ 0.,  6.,  0., 35.,  0.,  0.,  2.,  0.],\n",
            "        [ 0.,  8.,  0.,  3.,  0.,  0., 10.,  0.],\n",
            "        [ 0.,  1.,  0., 25.,  0.,  0.,  2.,  0.],\n",
            "        [ 0.,  4.,  0.,  5.,  0.,  0., 46.,  0.],\n",
            "        [ 0.,  0.,  0.,  0.,  0.,  0.,  0., 41.]])\n"
          ]
        },
        {
          "output_type": "stream",
          "name": "stderr",
          "text": [
            "100%|██████████| 32/32 [00:01<00:00, 20.27it/s]\n",
            "100%|██████████| 10/10 [00:00<00:00, 37.35it/s]\n"
          ]
        },
        {
          "output_type": "stream",
          "name": "stdout",
          "text": [
            "Accuracy: 0.5\n",
            "AUC: 0.8698084072715715\n",
            "F1 Score: 4.526730937773882\n",
            "Confusion Matrix:\n",
            "tensor([[ 0.,  4.,  0., 24.,  0.,  0.,  0.,  0.],\n",
            "        [ 0., 31.,  0., 17.,  0.,  0.,  7.,  1.],\n",
            "        [ 0.,  1.,  0.,  5.,  0.,  0., 14.,  8.],\n",
            "        [ 0.,  6.,  0., 35.,  0.,  0.,  2.,  0.],\n",
            "        [ 0., 11.,  0.,  2.,  0.,  0.,  8.,  0.],\n",
            "        [ 0.,  1.,  0., 25.,  0.,  0.,  2.,  0.],\n",
            "        [ 0., 10.,  0.,  2.,  0.,  0., 43.,  0.],\n",
            "        [ 0.,  0.,  0.,  0.,  0.,  0.,  0., 41.]])\n"
          ]
        },
        {
          "output_type": "stream",
          "name": "stderr",
          "text": [
            "100%|██████████| 32/32 [00:01<00:00, 20.28it/s]\n",
            "100%|██████████| 10/10 [00:00<00:00, 50.63it/s]\n"
          ]
        },
        {
          "output_type": "stream",
          "name": "stdout",
          "text": [
            "Accuracy: 0.48333333333333334\n",
            "AUC: 0.8819068303145498\n",
            "F1 Score: 4.613132580510246\n",
            "Confusion Matrix:\n",
            "tensor([[ 0.,  3.,  0., 25.,  0.,  0.,  0.,  0.],\n",
            "        [ 0., 21.,  0., 19.,  0.,  0., 15.,  1.],\n",
            "        [ 0.,  0.,  0.,  6.,  0.,  0., 14.,  8.],\n",
            "        [ 0.,  6.,  0., 35.,  0.,  0.,  2.,  0.],\n",
            "        [ 0.,  4.,  0.,  3.,  0.,  0., 14.,  0.],\n",
            "        [ 0.,  1.,  0., 25.,  0.,  0.,  2.,  0.],\n",
            "        [ 0.,  3.,  0.,  4.,  0.,  0., 48.,  0.],\n",
            "        [ 0.,  0.,  0.,  0.,  0.,  0.,  0., 41.]])\n"
          ]
        },
        {
          "output_type": "stream",
          "name": "stderr",
          "text": [
            "100%|██████████| 32/32 [00:01<00:00, 26.77it/s]\n",
            "100%|██████████| 10/10 [00:00<00:00, 50.28it/s]\n"
          ]
        },
        {
          "output_type": "stream",
          "name": "stdout",
          "text": [
            "Accuracy: 0.47\n",
            "AUC: 0.8842189980596\n",
            "F1 Score: 4.59616985845129\n",
            "Confusion Matrix:\n",
            "tensor([[ 0.,  1.,  0., 27.,  0.,  0.,  0.,  0.],\n",
            "        [ 0., 14.,  0., 29.,  0.,  0., 12.,  1.],\n",
            "        [ 0.,  0.,  0.,  6.,  0.,  0., 14.,  8.],\n",
            "        [ 0.,  1.,  0., 40.,  0.,  0.,  2.,  0.],\n",
            "        [ 0.,  3.,  0.,  8.,  0.,  0., 10.,  0.],\n",
            "        [ 0.,  0.,  0., 26.,  0.,  0.,  2.,  0.],\n",
            "        [ 0.,  0.,  0.,  9.,  0.,  0., 46.,  0.],\n",
            "        [ 0.,  0.,  0.,  0.,  0.,  0.,  0., 41.]])\n"
          ]
        },
        {
          "output_type": "stream",
          "name": "stderr",
          "text": [
            "100%|██████████| 32/32 [00:01<00:00, 26.29it/s]\n",
            "100%|██████████| 10/10 [00:00<00:00, 51.66it/s]\n"
          ]
        },
        {
          "output_type": "stream",
          "name": "stdout",
          "text": [
            "Accuracy: 0.5066666666666667\n",
            "AUC: 0.8828728365584549\n",
            "F1 Score: 4.56682629516761\n",
            "Confusion Matrix:\n",
            "tensor([[ 0.,  3.,  0., 25.,  0.,  0.,  0.,  0.],\n",
            "        [ 0., 32.,  0., 16.,  0.,  0.,  7.,  1.],\n",
            "        [ 0.,  1.,  0.,  5.,  0.,  0., 14.,  8.],\n",
            "        [ 0.,  7.,  0., 34.,  0.,  0.,  2.,  0.],\n",
            "        [ 0.,  9.,  0.,  3.,  0.,  0.,  9.,  0.],\n",
            "        [ 0.,  1.,  0., 25.,  0.,  0.,  2.,  0.],\n",
            "        [ 0.,  8.,  0.,  2.,  0.,  0., 45.,  0.],\n",
            "        [ 0.,  0.,  0.,  0.,  0.,  0.,  0., 41.]])\n"
          ]
        },
        {
          "output_type": "display_data",
          "data": {
            "text/plain": [
              "<Figure size 640x480 with 1 Axes>"
            ],
            "image/png": "[encoded data removed]"
          },
          "metadata": {}
        }
      ],
      "source": [
        "# Train the model\n",
        "def train_epoch(model,train_loader,optimizer,criterion,epoch,parameters):\n",
        "    train_loss_epoch = 0\n",
        "\n",
        "    for batch_idx, (X_batch, y_batch) in tqdm(enumerate(train_loader),total=len(train_loader)):\n",
        "        outputs = model(X_batch)\n",
        "        y_batch = y_batch.squeeze().long()\n",
        "\n",
        "        loss = criterion(outputs,y_batch)\n",
        "\n",
        "        train_loss_epoch += loss.item()\n",
        "\n",
        "        optimizer.zero_grad()\n",
        "        loss.backward()\n",
        "        optimizer.step()\n",
        "\n",
        "    train_loss_epoch /= parameters[\"batch_size\"]\n",
        "\n",
        "    return train_loss_epoch\n",
        "\n",
        "def validate_epoch(model,valid_loader,criterion,epoch,parameters):\n",
        "    valid_loss_epoch = 0\n",
        "\n",
        "    y_true = torch.tensor([])\n",
        "    y_score = torch.tensor([])\n",
        "\n",
        "    with torch.no_grad():\n",
        "      for batch_idx, (X_batch, y_batch) in tqdm(enumerate(valid_loader),total=len(valid_loader)):\n",
        "          outputs = model(X_batch)\n",
        "          y_batch = y_batch.squeeze().long()\n",
        "\n",
        "          loss = criterion(outputs,y_batch)\n",
        "\n",
        "          valid_loss_epoch += loss.item()\n",
        "\n",
        "          outputs = outputs.softmax(1)\n",
        "          y_batch = y_batch.resize_(len(y_batch),1)\n",
        "\n",
        "          y_true = torch.cat((y_true, y_batch),0)\n",
        "          y_score = torch.cat((y_score, outputs),0)\n",
        "\n",
        "      y_true = y_true.numpy()\n",
        "      y_score = y_score.detach().numpy()\n",
        "\n",
        "      y_labels = np.argmax(y_score,1)[...,np.newaxis]\n",
        "\n",
        "      acc = np.sum(y_true == y_labels) / np.sum(y_true == y_true)\n",
        "      auc = roc_auc_score(y_true,y_score,multi_class='ovr')\n",
        "      f1 = f1_score_function(y_true,y_labels)\n",
        "      matrix = confusion_matrix(torch.from_numpy(y_true),torch.from_numpy(y_labels),parameters[\"num_classes\"])\n",
        "\n",
        "      print(\"Accuracy:\", acc)\n",
        "      print(\"AUC:\", auc)\n",
        "      print(\"F1 Score:\", f1.item())\n",
        "      print(\"Confusion Matrix:\")\n",
        "      print(matrix)\n",
        "\n",
        "      valid_loss_epoch /= parameters[\"batch_size\"]\n",
        "\n",
        "      return valid_loss_epoch\n",
        "\n",
        "def loss_function_graphics(epochs,train_loss_epoch,valid_loss_epoch):\n",
        "  plt.plot(epochs, train_loss_epoch, 'b', label='Entrenamiento')\n",
        "  plt.plot(epochs, valid_loss_epoch, 'r', label='Validación')\n",
        "  plt.title('Funciones de Pérdida en Entrenamiento y Validación')\n",
        "  plt.xlabel('Épocas')\n",
        "  plt.ylabel('Pérdida')\n",
        "  plt.legend()\n",
        "  plt.show()\n",
        "\n",
        "def f1_score_function(y_true,y_pred):\n",
        "  tp = (y_true * y_pred).sum()\n",
        "  fp = ((1 - y_true) * y_pred).sum()\n",
        "  fn = (y_true * (1 - y_pred)).sum()\n",
        "\n",
        "  precision = tp / (tp + fp)\n",
        "  recall = tp / (tp + fn)\n",
        "\n",
        "  f1 = 2 * (precision * recall) / (precision + recall)\n",
        "\n",
        "  return f1\n",
        "\n",
        "def confusion_matrix(y_true,y_pred,num_classes):\n",
        "  y_true = y_true.long()\n",
        "  y_pred = y_pred.long()\n",
        "\n",
        "  confusion_matrix = torch.zeros(num_classes,num_classes)\n",
        "\n",
        "  for t, p in zip(y_true.view(-1), y_pred.view(-1)):\n",
        "      confusion_matrix[t, p] += 1\n",
        "\n",
        "  return confusion_matrix\n",
        "\n",
        "def model_training(model,optimizer,criterion,train_loader,valid_loader,parameters):\n",
        "  train_loss_epoch = []\n",
        "  valid_loss_epoch = []\n",
        "  epochs = range(1,parameters[\"num_epochs\"]+1)\n",
        "\n",
        "  for epoch in range(parameters[\"num_epochs\"]):\n",
        "    model.train()\n",
        "    train_loss = train_epoch(model,train_loader,optimizer,criterion,epoch,parameters)\n",
        "    model.eval()\n",
        "    valid_loss = validate_epoch(model,valid_loader,criterion,epoch,parameters)\n",
        "\n",
        "    train_loss_epoch.append(train_loss)\n",
        "    valid_loss_epoch.append(valid_loss)\n",
        "\n",
        "  loss_function_graphics(epochs,train_loss_epoch,valid_loss_epoch)\n",
        "\n",
        "\n",
        "model = Net(parameters)\n",
        "#model = ResNet18(parameters)\n",
        "#model = UNetCNN(parameters)\n",
        "\n",
        "#net_model_visualizer(model)\n",
        "optimizer = torch.optim.Adam(model.parameters(),lr=parameters[\"lr\"])\n",
        "criterion = nn.CrossEntropyLoss()\n",
        "\n",
        "model_training(model,optimizer,criterion,train_loader,valid_loader,parameters)"
      ]
    },
    {
      "cell_type": "markdown",
      "metadata": {
        "id": "RFgraWehfxGu"
      },
      "source": [
        "#Evaluation\n",
        "\n",
        "Finally, implement the evaluation of the object clasification task. You can implement any metric you want, though the most common are accuracy and AUC (one class against all for the multiclass task). You can use torch.no_grad() for speeding up predictions when no gradients are needed.\n",
        "\n",
        "How do you compare with the MedMNIST benchmarks?"
      ]
    },
    {
      "cell_type": "code",
      "execution_count": 49,
      "metadata": {
        "id": "NXT5ny4wVv_G",
        "colab": {
          "base_uri": "https://localhost:8080/"
        },
        "outputId": "e8b97d5d-a35b-4831-9897-bc63229088a1"
      },
      "outputs": [
        {
          "output_type": "stream",
          "name": "stderr",
          "text": [
            "100%|██████████| 19/19 [00:00<00:00, 43.76it/s]\n"
          ]
        },
        {
          "output_type": "stream",
          "name": "stdout",
          "text": [
            "Accuracy: 0.49666666666666665\n",
            "AUC: 0.8725956073533894\n",
            "F1 Score: 4.459995639851755\n",
            "Loss Function 0.8099619559943676\n",
            "Confusion Matrix:\n",
            "tensor([[ 0.,  1.,  0., 43.,  0.,  0.,  1.,  0.],\n",
            "        [ 0., 59.,  0., 36.,  0.,  0., 25.,  3.],\n",
            "        [ 0.,  3.,  0.,  6.,  0.,  0., 30., 16.],\n",
            "        [ 0., 20.,  0., 72.,  0.,  0.,  3.,  0.],\n",
            "        [ 0., 20.,  0.,  7.,  0.,  0., 12.,  0.],\n",
            "        [ 0.,  4.,  0., 47.,  0.,  0.,  1.,  0.],\n",
            "        [ 0., 20.,  0.,  4.,  0.,  0., 83.,  0.],\n",
            "        [ 0.,  0.,  0.,  0.,  0.,  0.,  0., 84.]])\n"
          ]
        }
      ],
      "source": [
        "def model_final_test(model,test_loader,criterion,parameters):\n",
        "  model.eval()\n",
        "\n",
        "  test_loss = 0\n",
        "  y_true = torch.tensor([])\n",
        "  y_score = torch.tensor([])\n",
        "\n",
        "  with torch.no_grad():\n",
        "    for batch_idx, (X_batch, y_batch) in tqdm(enumerate(test_loader),total=len(test_loader)):\n",
        "      outputs = model(X_batch)\n",
        "      y_batch = y_batch.squeeze().long()\n",
        "\n",
        "      loss = criterion(outputs,y_batch)\n",
        "\n",
        "      test_loss += loss.item()\n",
        "\n",
        "      outputs = outputs.softmax(1)\n",
        "      y_batch = y_batch.resize_(len(y_batch),1)\n",
        "\n",
        "      y_true = torch.cat((y_true, y_batch),0)\n",
        "      y_score = torch.cat((y_score, outputs),0)\n",
        "\n",
        "    y_true = y_true.numpy()\n",
        "    y_score = y_score.detach().numpy()\n",
        "\n",
        "    y_labels = np.argmax(y_score,1)[...,np.newaxis]\n",
        "\n",
        "    test_acc = np.sum(y_true == y_labels) / np.sum(y_true == y_true)\n",
        "    test_auc = roc_auc_score(y_true,y_score,multi_class='ovr')\n",
        "    test_f1 = f1_score_function(y_true,y_labels)\n",
        "    test_matrix = confusion_matrix(torch.from_numpy(y_true),torch.from_numpy(y_labels),parameters[\"num_classes\"])\n",
        "    test_loss /= parameters[\"batch_size\"]\n",
        "\n",
        "    print(\"Accuracy:\", test_acc)\n",
        "    print(\"AUC:\", test_auc)\n",
        "    print(\"F1 Score:\", test_f1.item())\n",
        "    print(\"Loss Function\",test_loss)\n",
        "    print(\"Confusion Matrix:\")\n",
        "    print(test_matrix)\n",
        "\n",
        "model_final_test(model,test_loader,criterion,parameters)"
      ]
    },
    {
      "cell_type": "markdown",
      "metadata": {
        "id": "L3x3GZbJM6n9"
      },
      "source": []
    }
  ],
  "metadata": {
    "colab": {
      "provenance": []
    },
    "kernelspec": {
      "display_name": "Python 3",
      "name": "python3"
    },
    "language_info": {
      "codemirror_mode": {
        "name": "ipython",
        "version": 3
      },
      "file_extension": ".py",
      "mimetype": "text/x-python",
      "name": "python",
      "nbconvert_exporter": "python",
      "pygments_lexer": "ipython3",
      "version": "3.6.15"
    }
  },
  "nbformat": 4,
  "nbformat_minor": 0
}