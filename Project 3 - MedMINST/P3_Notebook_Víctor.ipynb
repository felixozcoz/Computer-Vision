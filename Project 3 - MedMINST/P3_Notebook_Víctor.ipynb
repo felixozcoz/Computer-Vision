{
  "cells": [
    {
      "cell_type": "markdown",
      "metadata": {
        "id": "6XRxHiKdGHiT"
      },
      "source": [
        "## Image classification with deep learning methods.\n",
        "\n",
        "-- Description --\n",
        "\n",
        "When you train the network, it is recommended to use the GPU resources of your computer.\n",
        "This will help you to learn the \"know how\" of setting up a working Python environment on your computer.\n",
        "In the case of unavailable Nvidia hardware or problems with your Python environment you can use Google Colab.\n",
        "Please go to the menu, Runtime - Change runtime type, and select **GPU** as the hardware accelerator.\n",
        "Although you used your computer successfuly it is highly recommended to give a try to Google Colab environment.\n"
      ]
    },
    {
      "cell_type": "code",
      "execution_count": 144,
      "metadata": {
        "colab": {
          "base_uri": "https://localhost:8080/"
        },
        "id": "Eq1KWmR3HWYV",
        "outputId": "a7bd08c6-f185-4c4c-ef0a-dec8a5137a1d"
      },
      "outputs": [
        {
          "output_type": "stream",
          "name": "stdout",
          "text": [
            "Requirement already satisfied: medmnist in /usr/local/lib/python3.10/dist-packages (3.0.1)\n",
            "Requirement already satisfied: numpy in /usr/local/lib/python3.10/dist-packages (from medmnist) (1.25.2)\n",
            "Requirement already satisfied: pandas in /usr/local/lib/python3.10/dist-packages (from medmnist) (2.0.3)\n",
            "Requirement already satisfied: scikit-learn in /usr/local/lib/python3.10/dist-packages (from medmnist) (1.2.2)\n",
            "Requirement already satisfied: scikit-image in /usr/local/lib/python3.10/dist-packages (from medmnist) (0.19.3)\n",
            "Requirement already satisfied: tqdm in /usr/local/lib/python3.10/dist-packages (from medmnist) (4.66.2)\n",
            "Requirement already satisfied: Pillow in /usr/local/lib/python3.10/dist-packages (from medmnist) (9.4.0)\n",
            "Requirement already satisfied: fire in /usr/local/lib/python3.10/dist-packages (from medmnist) (0.6.0)\n",
            "Requirement already satisfied: torch in /usr/local/lib/python3.10/dist-packages (from medmnist) (2.2.1+cu121)\n",
            "Requirement already satisfied: torchvision in /usr/local/lib/python3.10/dist-packages (from medmnist) (0.17.1+cu121)\n",
            "Requirement already satisfied: six in /usr/local/lib/python3.10/dist-packages (from fire->medmnist) (1.16.0)\n",
            "Requirement already satisfied: termcolor in /usr/local/lib/python3.10/dist-packages (from fire->medmnist) (2.4.0)\n",
            "Requirement already satisfied: python-dateutil>=2.8.2 in /usr/local/lib/python3.10/dist-packages (from pandas->medmnist) (2.8.2)\n",
            "Requirement already satisfied: pytz>=2020.1 in /usr/local/lib/python3.10/dist-packages (from pandas->medmnist) (2023.4)\n",
            "Requirement already satisfied: tzdata>=2022.1 in /usr/local/lib/python3.10/dist-packages (from pandas->medmnist) (2024.1)\n",
            "Requirement already satisfied: scipy>=1.4.1 in /usr/local/lib/python3.10/dist-packages (from scikit-image->medmnist) (1.11.4)\n",
            "Requirement already satisfied: networkx>=2.2 in /usr/local/lib/python3.10/dist-packages (from scikit-image->medmnist) (3.3)\n",
            "Requirement already satisfied: imageio>=2.4.1 in /usr/local/lib/python3.10/dist-packages (from scikit-image->medmnist) (2.31.6)\n",
            "Requirement already satisfied: tifffile>=2019.7.26 in /usr/local/lib/python3.10/dist-packages (from scikit-image->medmnist) (2024.4.18)\n",
            "Requirement already satisfied: PyWavelets>=1.1.1 in /usr/local/lib/python3.10/dist-packages (from scikit-image->medmnist) (1.6.0)\n",
            "Requirement already satisfied: packaging>=20.0 in /usr/local/lib/python3.10/dist-packages (from scikit-image->medmnist) (24.0)\n",
            "Requirement already satisfied: joblib>=1.1.1 in /usr/local/lib/python3.10/dist-packages (from scikit-learn->medmnist) (1.4.0)\n",
            "Requirement already satisfied: threadpoolctl>=2.0.0 in /usr/local/lib/python3.10/dist-packages (from scikit-learn->medmnist) (3.4.0)\n",
            "Requirement already satisfied: filelock in /usr/local/lib/python3.10/dist-packages (from torch->medmnist) (3.13.4)\n",
            "Requirement already satisfied: typing-extensions>=4.8.0 in /usr/local/lib/python3.10/dist-packages (from torch->medmnist) (4.11.0)\n",
            "Requirement already satisfied: sympy in /usr/local/lib/python3.10/dist-packages (from torch->medmnist) (1.12)\n",
            "Requirement already satisfied: jinja2 in /usr/local/lib/python3.10/dist-packages (from torch->medmnist) (3.1.3)\n",
            "Requirement already satisfied: fsspec in /usr/local/lib/python3.10/dist-packages (from torch->medmnist) (2023.6.0)\n",
            "Requirement already satisfied: nvidia-cuda-nvrtc-cu12==12.1.105 in /usr/local/lib/python3.10/dist-packages (from torch->medmnist) (12.1.105)\n",
            "Requirement already satisfied: nvidia-cuda-runtime-cu12==12.1.105 in /usr/local/lib/python3.10/dist-packages (from torch->medmnist) (12.1.105)\n",
            "Requirement already satisfied: nvidia-cuda-cupti-cu12==12.1.105 in /usr/local/lib/python3.10/dist-packages (from torch->medmnist) (12.1.105)\n",
            "Requirement already satisfied: nvidia-cudnn-cu12==8.9.2.26 in /usr/local/lib/python3.10/dist-packages (from torch->medmnist) (8.9.2.26)\n",
            "Requirement already satisfied: nvidia-cublas-cu12==12.1.3.1 in /usr/local/lib/python3.10/dist-packages (from torch->medmnist) (12.1.3.1)\n",
            "Requirement already satisfied: nvidia-cufft-cu12==11.0.2.54 in /usr/local/lib/python3.10/dist-packages (from torch->medmnist) (11.0.2.54)\n",
            "Requirement already satisfied: nvidia-curand-cu12==10.3.2.106 in /usr/local/lib/python3.10/dist-packages (from torch->medmnist) (10.3.2.106)\n",
            "Requirement already satisfied: nvidia-cusolver-cu12==11.4.5.107 in /usr/local/lib/python3.10/dist-packages (from torch->medmnist) (11.4.5.107)\n",
            "Requirement already satisfied: nvidia-cusparse-cu12==12.1.0.106 in /usr/local/lib/python3.10/dist-packages (from torch->medmnist) (12.1.0.106)\n",
            "Requirement already satisfied: nvidia-nccl-cu12==2.19.3 in /usr/local/lib/python3.10/dist-packages (from torch->medmnist) (2.19.3)\n",
            "Requirement already satisfied: nvidia-nvtx-cu12==12.1.105 in /usr/local/lib/python3.10/dist-packages (from torch->medmnist) (12.1.105)\n",
            "Requirement already satisfied: triton==2.2.0 in /usr/local/lib/python3.10/dist-packages (from torch->medmnist) (2.2.0)\n",
            "Requirement already satisfied: nvidia-nvjitlink-cu12 in /usr/local/lib/python3.10/dist-packages (from nvidia-cusolver-cu12==11.4.5.107->torch->medmnist) (12.4.127)\n",
            "Requirement already satisfied: MarkupSafe>=2.0 in /usr/local/lib/python3.10/dist-packages (from jinja2->torch->medmnist) (2.1.5)\n",
            "Requirement already satisfied: mpmath>=0.19 in /usr/local/lib/python3.10/dist-packages (from sympy->torch->medmnist) (1.3.0)\n"
          ]
        }
      ],
      "source": [
        "# Import libraries\n",
        "# These libraries should be sufficient for this Practice.\n",
        "# However, if any other library is needed, please install it by yourself.\n",
        "\n",
        "import torch\n",
        "import torch.nn as nn\n",
        "import torch.nn.functional as F\n",
        "import torch.optim as optim\n",
        "import torchvision.transforms as transforms\n",
        "import torch.utils.data as data\n",
        "import numpy as np\n",
        "import time\n",
        "import os\n",
        "import random\n",
        "import matplotlib.pyplot as plt\n",
        "from matplotlib import colors\n",
        "from PIL import Image\n",
        "from tqdm import tqdm\n",
        "from sklearn.metrics import roc_auc_score\n",
        "from sklearn.metrics import roc_curve\n",
        "from torchvision import datasets, transforms\n",
        "import matplotlib.pyplot as plt\n",
        "import tensorflow as tf\n",
        "\n",
        "!pip install medmnist\n",
        "import medmnist\n",
        "from medmnist import *"
      ]
    },
    {
      "cell_type": "code",
      "execution_count": 133,
      "metadata": {
        "colab": {
          "base_uri": "https://localhost:8080/"
        },
        "id": "GvH6SWlDQBMf",
        "outputId": "6fd787f2-74a5-42f1-fe56-79398d5c598e"
      },
      "outputs": [
        {
          "output_type": "stream",
          "name": "stdout",
          "text": [
            "Medmnist class:  BloodMNIST\n",
            "Url:  https://zenodo.org/records/10519652/files/bloodmnist.npz?download=1\n",
            "Classification task:  multi-class\n",
            "Class labels:  {'0': 'basophil', '1': 'eosinophil', '2': 'erythroblast', '3': 'immature granulocytes(myelocytes, metamyelocytes and promyelocytes)', '4': 'lymphocyte', '5': 'monocyte', '6': 'neutrophil', '7': 'platelet'}\n",
            "Samples:  {'train': 11959, 'val': 1712, 'test': 3421}\n",
            "Using downloaded and verified file: /root/.medmnist/bloodmnist.npz\n",
            "Using downloaded and verified file: /root/.medmnist/bloodmnist.npz\n",
            "Using downloaded and verified file: /root/.medmnist/bloodmnist.npz\n"
          ]
        }
      ],
      "source": [
        "# Parameters\n",
        "NUM_EPOCHS = 20\n",
        "BATCH_SIZE = 32\n",
        "lr = 0.0001\n",
        "DOWNLOAD_OK = True\n",
        "data_flag = 'bloodmnist'\n",
        "im_size = 64\n",
        "info = INFO[data_flag]\n",
        "task = info['task']\n",
        "n_channels = info['n_channels']\n",
        "num_classes = len(info['label'])\n",
        "TRAIN_IMAGES = 1000\n",
        "data_labels = info['label']\n",
        "\n",
        "# Tupla que contiene los valores asociados a los parámetros mostrados anteriormente,\n",
        "# con el fin de mejorar la organización de dichos parámetros.\n",
        "parameters = {\"num_epochs\": NUM_EPOCHS, \"batch_size\": BATCH_SIZE, \"lr\": lr, \"download_ok\": DOWNLOAD_OK,\n",
        "              \"data_flag\": data_flag, \"im_size\": im_size,\"info_task\": task, \"num_channels\": n_channels,\n",
        "              \"num_classes\": num_classes,\"num_images\":TRAIN_IMAGES, \"data_labels\": data_labels}\n",
        "\n",
        "# Partial display of information in info\n",
        "print(\"Medmnist class: \"      , info['python_class'])   #  Medmnist dataset type:   BloodMNIST, ChestMNIST, DermaMNIST, ....\n",
        "print(\"Url: \"                 , info['url'])            #  Url dir\n",
        "print(\"Classification task: \" , info['task'])           #  Classification tasks:\n",
        "print(\"Class labels: \"        , info['label'])          #  Class labels\n",
        "print(\"Samples: \"             , info['n_samples'])      #  Samples subdatasets\n",
        "\n",
        "\n",
        "# Preprocesado de datos mediante la definición de la transformación de datos\n",
        "def preprocessing_data(parameters):\n",
        "  data_transform = transforms.Compose([\n",
        "    transforms.Resize((parameters[\"im_size\"],parameters[\"im_size\"])),\n",
        "    transforms.ToTensor(),\n",
        "    transforms.Normalize(mean=[.5], std=[.5])\n",
        "  ])\n",
        "\n",
        "  full_train_dataset = BloodMNIST(split=\"train\", transform=data_transform, download=True)\n",
        "  full_valid_dataset = BloodMNIST(split=\"val\", transform=data_transform, download=True)\n",
        "  full_test_dataset = BloodMNIST(split=\"test\", transform=data_transform, download=True)\n",
        "\n",
        "  idx_train = np.random.choice(len(full_train_dataset),size=parameters[\"num_images\"],replace=False)\n",
        "  train_dataset = [full_train_dataset[i] for i in idx_train]\n",
        "\n",
        "  idx_valid = np.random.choice(len(full_valid_dataset),size=300,replace=False)\n",
        "  valid_dataset = [full_valid_dataset[i] for i in idx_valid]\n",
        "\n",
        "  idx_test = np.random.choice(len(full_test_dataset),size=600,replace=False)\n",
        "  test_dataset = [full_test_dataset[i] for i in idx_test]\n",
        "\n",
        "  train_loader = data.DataLoader(dataset=train_dataset, batch_size=parameters[\"batch_size\"], shuffle=True)\n",
        "  valid_loader = data.DataLoader(dataset=valid_dataset, batch_size=parameters[\"batch_size\"], shuffle=False)\n",
        "  test_loader = data.DataLoader(dataset=test_dataset, batch_size=parameters[\"batch_size\"], shuffle=True)\n",
        "\n",
        "  return train_loader, valid_loader, test_loader, train_dataset, valid_dataset, test_dataset\n",
        "\n",
        "train_loader,valid_loader,test_loader,train_dataset,valid_dataset,test_dataset = preprocessing_data(parameters)"
      ]
    },
    {
      "cell_type": "code",
      "execution_count": 126,
      "metadata": {
        "id": "GMVmgmpHGrtx"
      },
      "outputs": [],
      "source": [
        "## Your code\n",
        "\n",
        "# Función que permite visualizar los aspectos fundamentales sobre cada\n",
        "# dataset que se haya descargado/cargado previamente.\n",
        "def dataset_visualizer(dataset,length_montage):\n",
        "  for i in range(0,length_montage*length_montage):\n",
        "    img = dataset[i][0]\n",
        "    label = str(dataset[i][1]).replace('[','').replace(']','')\n",
        "    figure = plt.figure(figsize=(2,2))\n",
        "    plt.imshow(img.permute(1,2,0))\n",
        "    plt.title(data_labels[label])\n",
        "    plt.axis(\"off\")\n",
        "  plt.show()\n",
        "\n",
        "# Visualizador de los datasets (imágenes) a través de un pipeline DataLoader\n",
        "def dataloader_visualizer(data_loader,num_batches):\n",
        "  for batch_idx, (features, labels) in enumerate(data_loader):\n",
        "      if batch_idx >= num_batches:\n",
        "        break\n",
        "      for i in range(len(features)):\n",
        "        img = features[i].squeeze()\n",
        "        label = str(labels[i]).replace('tensor([','').replace('])','')\n",
        "        plt.figure(figsize=(2,2))\n",
        "        plt.title(label)\n",
        "        plt.imshow(img.permute(1,2,0))\n",
        "        plt.axis('off')\n",
        "        plt.show()\n",
        "\n",
        "# Visualizador de la red asociada al modelo de aprendizaje\n",
        "def net_model_visualizer(net_model):\n",
        "  print(net_model)\n",
        "  print('Total Parameters:',\n",
        "       sum([torch.numel(p) for p in net_model.parameters()])\n",
        "  )\n",
        "  print('Trainable Parameters:',\n",
        "       sum([torch.numel(p) for p in net_model.parameters() if p.requires_grad])\n",
        "  )\n",
        "\n",
        "#dataset_visualizer(train_dataset,5)\n",
        "\n",
        "#dataloader_visualizer(train_loader,1)\n",
        "#dataloader_visualizer(valid_loader,1)\n",
        "#dataloader_visualizer(test_loader,1)"
      ]
    },
    {
      "cell_type": "code",
      "execution_count": null,
      "metadata": {
        "id": "X8OH_2iLU6oZ"
      },
      "outputs": [],
      "source": [
        "# Define a simple CNN model\n",
        "\n",
        "# Simula una capa que contiene <in_channels> filtros convolucionales de entrada\n",
        "# y <out_channels> filtros convolucionales de salida\n",
        "def convolution(in_channels,out_channels):\n",
        "  layer = nn.Sequential(\n",
        "      nn.Conv2d(in_channels,out_channels,3),\n",
        "      nn.BatchNorm2d(out_channels),\n",
        "      nn.ReLU(),\n",
        "      nn.MaxPool2d(2,2),\n",
        "  )\n",
        "\n",
        "  return layer\n",
        "\n",
        "# Simula una capa de doble convolución\n",
        "def double_convolution(in_channels,out_channels):\n",
        "  conv_op = nn.Sequential(\n",
        "      nn.Conv2d(in_channels,out_channels,3),\n",
        "      nn.ReLU(),\n",
        "      nn.Conv2d(in_channels,out_channels,3),\n",
        "      nn.ReLU()\n",
        "  )\n",
        "\n",
        "  return conv_op\n",
        "\n",
        "class Net(nn.Module):\n",
        "    def __init__(self, parameters):\n",
        "        super(Net, self).__init__()\n",
        "\n",
        "        self.layer1 = convolution(parameters[\"num_channels\"],8)\n",
        "        self.layer2 = convolution(8,16)\n",
        "        self.layer3 = convolution(16,32)\n",
        "        self.layer4 = convolution(32,64)\n",
        "\n",
        "        self.fc1 = nn.Linear(64,32)\n",
        "        self.relu1 = nn.ReLU()\n",
        "        self.fc2 = nn.Linear(32,parameters[\"num_classes\"])\n",
        "\n",
        "        #End your code\n",
        "\n",
        "    def forward(self, x):\n",
        "        x = self.layer1(x)\n",
        "        x = self.layer2(x)\n",
        "        x = self.layer3(x)\n",
        "        x = self.layer4(x)\n",
        "\n",
        "        x = F.adaptive_avg_pool2d(x,1).reshape(x.size(0),-1)\n",
        "\n",
        "        x = self.fc1(x)\n",
        "        x = self.relu1(x)\n",
        "        x = self.fc2(x)\n",
        "\n",
        "        return x\n",
        "\n",
        "\"\"\"\n",
        "class UNet(nn.Module):\n",
        "  def __init__(self,parameters):\n",
        "    super(UNet,self).__init__()\n",
        "\n",
        "    self.encoder = nn.Sequential(\n",
        "      nn.Conv2d(parameters[\"num_channels\"],64,kernel_size=3,padding=1),\n",
        "      nn.ReLU(inplace=True),\n",
        "      nn.Conv2d(64,64,kernel_size=3,padding=1),\n",
        "      nn.ReLU(inplace=True),\n",
        "      nn.MaxPool2d(kernel_size=2,stride=2)\n",
        "    )\n",
        "    self.decoder = nn.Sequential(\n",
        "      nn.Conv2d(64,128,kernel_size=3,padding=1),\n",
        "      nn.ReLU(inplace=True),\n",
        "      nn.Conv2d(128,128,kernel_size=3,padding=1),\n",
        "      nn.ReLU(inplace=True),\n",
        "      nn.ConvTranspose2d(128,64,kernel_size=2,stride=2),\n",
        "      nn.Conv2d(64,parameters[\"num_classes\"],kernel_size=1)\n",
        "    )\n",
        "\n",
        "  def forward(self,x):\n",
        "    x = self.encoder(x)\n",
        "    x = self.decoder(x)\n",
        "    return x\n",
        "\"\"\"\n",
        "\n",
        "\n",
        "\"\"\"\n",
        "class UNetCNN(nn.Module):\n",
        "  def __init__(self,parameters):\n",
        "    super(UNetCNN,self).__init__()\n",
        "\n",
        "    self.max_pool2d = nn.MaxPool2d(2,2)\n",
        "\n",
        "    self.down_conv1 = double_convultion(parameters[\"n_channels\"],8)\n",
        "    self.down_conv2 = double_convultion(8,16)\n",
        "    self.down_conv3 = double_convultion(16,32)\n",
        "    self.down_conv4 = double_convultion(32,64)\n",
        "    self.down_conv5 = double_convultion(64,128)\n",
        "\n",
        "    self.up_trans1 = nn.ConvTranspose2d(128,64,2,2)\n",
        "    self.up_conv1 = double_convultion(128,64)\n",
        "    self.up_trans2 = nn.ConvTranspose2d(64,32,2,2)\n",
        "    self.up_conv2 = double_convultion(64,32)\n",
        "    self.up_trans3 = nn.ConvTranspose2d(32,16,2,2)\n",
        "    self.up_conv3 = double_convultion(32,16)\n",
        "    self.up_trans4 = nn.ConvTranspose2d(16,8,2,2)\n",
        "    self.up_conv4 = double_convultion(16,8)\n",
        "\n",
        "    self.final_layer = nn.Conv2d(8,parameters[\"num_classes\"],1)\n",
        "\n",
        "  def forward(self,x):\n",
        "    print(x.shape)\n",
        "    down1 = self.down_conv1(x)\n",
        "    print(down1.shape)\n",
        "    down2 = self.max_pool2d(down1)\n",
        "    print(down2.shape)\n",
        "    down3 = self.down_conv2(down2)\n",
        "    print(down3.shape)\n",
        "    down4 = self.max_pool2d(down3)\n",
        "    print(down4.shape)\n",
        "    down5 = self.down_conv3(down4)\n",
        "    print(down5.shape)\n",
        "    down6 = self.max_pool2d(down5)\n",
        "    print(down6.shape)\n",
        "    down7 = self.down_conv4(down6)\n",
        "    print(down7.shape)\n",
        "    down8 = self.max_pool2d(down7)\n",
        "    print(down8.shape)\n",
        "    down9 = self.down_conv5(down8)\n",
        "    print(down9.shape)\n",
        "\n",
        "    up1 = self.up_trans1(down9)\n",
        "    print(up1.shape)\n",
        "    x = self.up_conv1(torch.cat([down7,up1],1))\n",
        "\n",
        "    up2 = self.up_trans2(x)\n",
        "    print(up2.shape)\n",
        "    x = self.up_conv2(torch.cat([down5,up2],1))\n",
        "\n",
        "    up3 = self.up_trans3(x)\n",
        "    print(up3.shape)\n",
        "    x = self.up_conv3(torch.cat([down3,up3],1))\n",
        "\n",
        "    up4 = self.up_trans4(x)\n",
        "    print(up4.shape)\n",
        "    x = self.up_conv4(torch.cat([down1,up4],1))\n",
        "\n",
        "    final_layer = self.final_layer(x)\n",
        "\n",
        "    print(final_layer.shape)\n",
        "    return final_layer\n",
        "\"\"\"\n",
        "\n",
        "\"\"\"\n",
        "class ResNet18(nn.Module):\n",
        "  def __init__(self,parameters):\n",
        "    super(ResNet18, self).__init__()\n",
        "\n",
        "    self.conv1 = nn.Conv2d(parameters[\"n_channels\"],64,7,2,3)\n",
        "    self.bn1 = nn.BatchNorm2d(64)\n",
        "    self.maxpool = nn.MaxPool2d(3,2,1)\n",
        "\n",
        "    self.conv2_block1 = nn.Sequential(\n",
        "        nn.Conv2d(64,64,3,1,1),\n",
        "        nn.BatchNorm2d(64),\n",
        "        nn.ReLU(True),\n",
        "        nn.Conv2d(64,64,3,1,1),\n",
        "        nn.BatchNorm2d(64)\n",
        "    )\n",
        "\n",
        "    self.conv2_block2 = nn.Sequential(\n",
        "        nn.Conv2d(64,64,3,1,1),\n",
        "        nn.BatchNorm2d(64),\n",
        "        nn.ReLU(True),\n",
        "        nn.Conv2d(64,64,3,1,1),\n",
        "        nn.BatchNorm2d(64)\n",
        "    )\n",
        "\n",
        "    self.conv3_block1 = nn.Sequential(\n",
        "        nn.Conv2d(64,128,3,2,1),\n",
        "        nn.BatchNorm2d(128),\n",
        "        nn.ReLU(True),\n",
        "        nn.Conv2d(128,128,3,1,1),\n",
        "        nn.BatchNorm2d(128)\n",
        "    )\n",
        "\n",
        "    self.conv3_block2 = nn.Sequential(\n",
        "        nn.Conv2d(128,128,3,1,1),\n",
        "        nn.BatchNorm2d(128),\n",
        "        nn.ReLU(True),\n",
        "        nn.Conv2d(128,128,3,1,1),\n",
        "        nn.BatchNorm2d(128)\n",
        "    )\n",
        "\n",
        "    self.conv4_block1 = nn.Sequential(\n",
        "        nn.Conv2d(128,256,3,2,1),\n",
        "        nn.BatchNorm2d(256),\n",
        "        nn.ReLU(True),\n",
        "        nn.Conv2d(256,256,3,1,1),\n",
        "        nn.BatchNorm2d(256)\n",
        "    )\n",
        "\n",
        "    self.conv4_block2 = nn.Sequential(\n",
        "        nn.Conv2d(256,256,3,1,1),\n",
        "        nn.BatchNorm2d(256),\n",
        "        nn.ReLU(True),\n",
        "        nn.Conv2d(256,256,3,1,1),\n",
        "        nn.BatchNorm2d(256)\n",
        "    )\n",
        "\n",
        "    self.conv5_block1 = nn.Sequential(\n",
        "        nn.Conv2d(256,512,3,2,1),\n",
        "        nn.BatchNorm2d(512),\n",
        "        nn.ReLU(True),\n",
        "        nn.Conv2d(512,512,3,1,1),\n",
        "        nn.BatchNorm2d(512)\n",
        "    )\n",
        "\n",
        "    self.conv5_block2 = nn.Sequential(\n",
        "        nn.Conv2d(512,512,3,1,1),\n",
        "        nn.BatchNorm2d(512),\n",
        "        nn.ReLU(True),\n",
        "        nn.Conv2d(512,512,3,1,1),\n",
        "        nn.BatchNorm2d(512)\n",
        "    )\n",
        "\n",
        "    self.avgpool = nn.AdaptiveAvgPool2d(output_size=(1,1))\n",
        "    self.fc = nn.Linear(512,parameters[\"num_classes\"])\n",
        "\n",
        "  def forward(self,x):\n",
        "    print(x.shape)\n",
        "    x = self.conv1(x)\n",
        "    x = self.bn1(x)\n",
        "    x = self.maxpool(x)\n",
        "\n",
        "    print(x.shape)\n",
        "    x = self.conv2_block1(x)\n",
        "    x = self.conv2_block2(x)\n",
        "    x = self.conv3_block1(x)\n",
        "    x = self.conv3_block2(x)\n",
        "    x = self.conv4_block1(x)\n",
        "    x = self.conv4_block2(x)\n",
        "    x = self.conv5_block1(x)\n",
        "    x = self.conv5_block2(x)\n",
        "\n",
        "    x = self.avgpool(x)\n",
        "    x = self.fc(x)\n",
        "\n",
        "    return x\n",
        "\"\"\""
      ]
    },
    {
      "cell_type": "code",
      "execution_count": 145,
      "metadata": {
        "colab": {
          "base_uri": "https://localhost:8080/",
          "height": 1000
        },
        "id": "ENrFXnaOVt0i",
        "outputId": "e8edaf8e-6a11-4de5-f6d3-30db5e4373f2"
      },
      "outputs": [
        {
          "output_type": "stream",
          "name": "stderr",
          "text": [
            "100%|██████████| 32/32 [00:05<00:00,  6.11it/s]\n",
            "100%|██████████| 10/10 [00:00<00:00, 19.45it/s]\n"
          ]
        },
        {
          "output_type": "stream",
          "name": "stdout",
          "text": [
            "\n",
            "Accuracy: 0.14666666666666667\n",
            "AUC: 0.6954546913126456\n",
            "F1 Score: 2.7577639751552794\n",
            "Confusion Matrix:\n",
            "tensor([[13.,  0.,  3.,  1.,  0.,  0.,  0.,  0.],\n",
            "        [25.,  0., 35.,  0.,  0.,  0.,  0.,  0.],\n",
            "        [ 9.,  0., 15.,  0.,  0.,  0.,  0.,  2.],\n",
            "        [21.,  0., 18.,  0.,  5.,  0.,  0.,  0.],\n",
            "        [14.,  0., 10.,  1.,  0.,  0.,  0.,  0.],\n",
            "        [14.,  0.,  8.,  0.,  3.,  0.,  0.,  0.],\n",
            "        [25.,  0., 25.,  5.,  4.,  0.,  0.,  0.],\n",
            "        [ 0.,  0., 28.,  0.,  0.,  0.,  0., 16.]])\n"
          ]
        },
        {
          "output_type": "stream",
          "name": "stderr",
          "text": [
            "100%|██████████| 32/32 [00:03<00:00,  9.08it/s]\n",
            "100%|██████████| 10/10 [00:00<00:00, 26.28it/s]\n"
          ]
        },
        {
          "output_type": "stream",
          "name": "stdout",
          "text": [
            "\n",
            "Accuracy: 0.3466666666666667\n",
            "AUC: 0.8760211045761584\n",
            "F1 Score: 4.204629629629631\n",
            "Confusion Matrix:\n",
            "tensor([[ 1.,  0.,  4.,  7.,  5.,  0.,  0.,  0.],\n",
            "        [ 2.,  0.,  3., 50.,  4.,  0.,  0.,  1.],\n",
            "        [ 4.,  0., 17.,  2.,  0.,  0.,  0.,  3.],\n",
            "        [ 7.,  0.,  7., 28.,  2.,  0.,  0.,  0.],\n",
            "        [ 3.,  0., 12.,  1.,  9.,  0.,  0.,  0.],\n",
            "        [ 4.,  0.,  0., 20.,  1.,  0.,  0.,  0.],\n",
            "        [ 1.,  0., 13., 17., 23.,  0.,  5.,  0.],\n",
            "        [ 0.,  0.,  0.,  0.,  0.,  0.,  0., 44.]])\n"
          ]
        },
        {
          "output_type": "stream",
          "name": "stderr",
          "text": [
            "100%|██████████| 32/32 [00:04<00:00,  7.05it/s]\n",
            "100%|██████████| 10/10 [00:01<00:00,  9.90it/s]\n"
          ]
        },
        {
          "output_type": "stream",
          "name": "stdout",
          "text": [
            "\n",
            "Accuracy: 0.53\n",
            "AUC: 0.9069845565715111\n",
            "F1 Score: 4.640907181856363\n",
            "Confusion Matrix:\n",
            "tensor([[ 1.,  0.,  1.,  4., 11.,  0.,  0.,  0.],\n",
            "        [ 1.,  0.,  6., 39.,  8.,  0.,  5.,  1.],\n",
            "        [ 3.,  0., 14.,  0.,  6.,  0.,  0.,  3.],\n",
            "        [ 1.,  0.,  5., 33.,  5.,  0.,  0.,  0.],\n",
            "        [ 0.,  0.,  2.,  0., 23.,  0.,  0.,  0.],\n",
            "        [ 1.,  0.,  0., 22.,  2.,  0.,  0.,  0.],\n",
            "        [ 1.,  0.,  1.,  4.,  9.,  0., 44.,  0.],\n",
            "        [ 0.,  0.,  0.,  0.,  0.,  0.,  0., 44.]])\n"
          ]
        },
        {
          "output_type": "stream",
          "name": "stderr",
          "text": [
            "100%|██████████| 32/32 [00:03<00:00,  8.44it/s]\n",
            "100%|██████████| 10/10 [00:00<00:00, 20.78it/s]\n"
          ]
        },
        {
          "output_type": "stream",
          "name": "stdout",
          "text": [
            "\n",
            "Accuracy: 0.59\n",
            "AUC: 0.9220530376753553\n",
            "F1 Score: 4.671623296158612\n",
            "Confusion Matrix:\n",
            "tensor([[ 0.,  0.,  3.,  3., 10.,  0.,  1.,  0.],\n",
            "        [ 1., 14.,  5., 19.,  3.,  0., 17.,  1.],\n",
            "        [ 1.,  0., 14.,  0.,  7.,  0.,  1.,  3.],\n",
            "        [ 0.,  0.,  2., 35.,  6.,  0.,  1.,  0.],\n",
            "        [ 0.,  0.,  3.,  0., 21.,  0.,  1.,  0.],\n",
            "        [ 2.,  0.,  0., 20.,  1.,  0.,  2.,  0.],\n",
            "        [ 1.,  0.,  1.,  3.,  5.,  0., 49.,  0.],\n",
            "        [ 0.,  0.,  0.,  0.,  0.,  0.,  0., 44.]])\n"
          ]
        },
        {
          "output_type": "stream",
          "name": "stderr",
          "text": [
            "100%|██████████| 32/32 [00:03<00:00, 10.61it/s]\n",
            "100%|██████████| 10/10 [00:00<00:00, 37.14it/s]\n"
          ]
        },
        {
          "output_type": "stream",
          "name": "stdout",
          "text": [
            "\n",
            "Accuracy: 0.6666666666666666\n",
            "AUC: 0.9360127031937716\n",
            "F1 Score: 4.775704989154014\n",
            "Confusion Matrix:\n",
            "tensor([[ 4.,  0.,  1.,  6.,  6.,  0.,  0.,  0.],\n",
            "        [ 3., 34.,  1., 12.,  2.,  0.,  6.,  2.],\n",
            "        [ 3.,  0., 15.,  1.,  3.,  0.,  1.,  3.],\n",
            "        [ 2.,  0.,  2., 36.,  3.,  0.,  1.,  0.],\n",
            "        [ 1.,  0.,  4.,  1., 19.,  0.,  0.,  0.],\n",
            "        [ 0.,  0.,  0., 22.,  1.,  0.,  2.,  0.],\n",
            "        [ 1.,  0.,  1.,  5.,  4.,  0., 48.,  0.],\n",
            "        [ 0.,  0.,  0.,  0.,  0.,  0.,  0., 44.]])\n"
          ]
        },
        {
          "output_type": "stream",
          "name": "stderr",
          "text": [
            "100%|██████████| 32/32 [00:02<00:00, 11.04it/s]\n",
            "100%|██████████| 10/10 [00:00<00:00, 23.61it/s]\n"
          ]
        },
        {
          "output_type": "stream",
          "name": "stdout",
          "text": [
            "\n",
            "Accuracy: 0.7066666666666667\n",
            "AUC: 0.9416382250902047\n",
            "F1 Score: 4.846186988367084\n",
            "Confusion Matrix:\n",
            "tensor([[ 2.,  0.,  0.,  9.,  6.,  0.,  0.,  0.],\n",
            "        [ 1., 43.,  1.,  9.,  0.,  0.,  5.,  1.],\n",
            "        [ 1.,  0., 13.,  4.,  3.,  0.,  1.,  4.],\n",
            "        [ 2.,  0.,  1., 38.,  2.,  0.,  1.,  0.],\n",
            "        [ 2.,  0.,  4.,  1., 18.,  0.,  0.,  0.],\n",
            "        [ 0.,  0.,  0., 23.,  0.,  0.,  2.,  0.],\n",
            "        [ 0.,  0.,  0.,  3.,  1.,  0., 54.,  1.],\n",
            "        [ 0.,  0.,  0.,  0.,  0.,  0.,  0., 44.]])\n"
          ]
        },
        {
          "output_type": "stream",
          "name": "stderr",
          "text": [
            "100%|██████████| 32/32 [00:04<00:00,  7.01it/s]\n",
            "100%|██████████| 10/10 [00:00<00:00, 20.71it/s]\n"
          ]
        },
        {
          "output_type": "stream",
          "name": "stdout",
          "text": [
            "\n",
            "Accuracy: 0.7366666666666667\n",
            "AUC: 0.9458832870267881\n",
            "F1 Score: 4.884026258205689\n",
            "Confusion Matrix:\n",
            "tensor([[ 3.,  0.,  0.,  9.,  5.,  0.,  0.,  0.],\n",
            "        [ 2., 51.,  0.,  4.,  0.,  0.,  3.,  0.],\n",
            "        [ 0.,  0., 13.,  5.,  4.,  0.,  1.,  3.],\n",
            "        [ 2.,  0.,  1., 38.,  2.,  0.,  1.,  0.],\n",
            "        [ 3.,  0.,  2.,  4., 16.,  0.,  0.,  0.],\n",
            "        [ 0.,  1.,  0., 22.,  0.,  0.,  2.,  0.],\n",
            "        [ 0.,  0.,  0.,  3.,  0.,  0., 56.,  0.],\n",
            "        [ 0.,  0.,  0.,  0.,  0.,  0.,  0., 44.]])\n"
          ]
        },
        {
          "output_type": "stream",
          "name": "stderr",
          "text": [
            "100%|██████████| 32/32 [00:02<00:00, 13.92it/s]\n",
            "100%|██████████| 10/10 [00:00<00:00, 38.78it/s]\n"
          ]
        },
        {
          "output_type": "stream",
          "name": "stdout",
          "text": [
            "\n",
            "Accuracy: 0.73\n",
            "AUC: 0.9476067691495349\n",
            "F1 Score: 4.911062906724513\n",
            "Confusion Matrix:\n",
            "tensor([[ 2.,  0.,  0., 10.,  5.,  0.,  0.,  0.],\n",
            "        [ 2., 54.,  0.,  2.,  0.,  0.,  2.,  0.],\n",
            "        [ 0.,  0.,  8.,  5.,  9.,  0.,  1.,  3.],\n",
            "        [ 2.,  0.,  1., 37.,  2.,  0.,  2.,  0.],\n",
            "        [ 1.,  0.,  1.,  6., 17.,  0.,  0.,  0.],\n",
            "        [ 0.,  0.,  0., 23.,  0.,  0.,  2.,  0.],\n",
            "        [ 0.,  0.,  0.,  2.,  0.,  0., 57.,  0.],\n",
            "        [ 0.,  0.,  0.,  0.,  0.,  0.,  0., 44.]])\n"
          ]
        },
        {
          "output_type": "stream",
          "name": "stderr",
          "text": [
            "100%|██████████| 32/32 [00:01<00:00, 17.80it/s]\n",
            "100%|██████████| 10/10 [00:00<00:00, 39.86it/s]\n"
          ]
        },
        {
          "output_type": "stream",
          "name": "stdout",
          "text": [
            "\n",
            "Accuracy: 0.73\n",
            "AUC: 0.9500576132781917\n",
            "F1 Score: 4.891114982578398\n",
            "Confusion Matrix:\n",
            "tensor([[ 2.,  0.,  0., 10.,  5.,  0.,  0.,  0.],\n",
            "        [ 1., 56.,  0.,  1.,  0.,  0.,  2.,  0.],\n",
            "        [ 0.,  0.,  8.,  5.,  9.,  0.,  1.,  3.],\n",
            "        [ 1.,  0.,  1., 38.,  2.,  0.,  2.,  0.],\n",
            "        [ 2.,  0.,  1.,  7., 15.,  0.,  0.,  0.],\n",
            "        [ 0.,  0.,  0., 24.,  0.,  0.,  1.,  0.],\n",
            "        [ 0.,  0.,  0.,  3.,  0.,  0., 56.,  0.],\n",
            "        [ 0.,  0.,  0.,  0.,  0.,  0.,  0., 44.]])\n"
          ]
        },
        {
          "output_type": "stream",
          "name": "stderr",
          "text": [
            "100%|██████████| 32/32 [00:01<00:00, 17.67it/s]\n",
            "100%|██████████| 10/10 [00:00<00:00, 40.57it/s]\n"
          ]
        },
        {
          "output_type": "stream",
          "name": "stdout",
          "text": [
            "\n",
            "Accuracy: 0.7466666666666667\n",
            "AUC: 0.9520899631175956\n",
            "F1 Score: 4.91004366812227\n",
            "Confusion Matrix:\n",
            "tensor([[ 3.,  0.,  0., 10.,  4.,  0.,  0.,  0.],\n",
            "        [ 1., 57.,  0.,  1.,  0.,  0.,  1.,  0.],\n",
            "        [ 0.,  0., 10.,  5.,  6.,  0.,  1.,  4.],\n",
            "        [ 0.,  0.,  1., 40.,  1.,  0.,  2.,  0.],\n",
            "        [ 1.,  0.,  1.,  9., 14.,  0.,  0.,  0.],\n",
            "        [ 0.,  0.,  0., 24.,  0.,  0.,  1.,  0.],\n",
            "        [ 0.,  0.,  0.,  3.,  0.,  0., 56.,  0.],\n",
            "        [ 0.,  0.,  0.,  0.,  0.,  0.,  0., 44.]])\n"
          ]
        },
        {
          "output_type": "stream",
          "name": "stderr",
          "text": [
            "100%|██████████| 32/32 [00:01<00:00, 16.49it/s]\n",
            "100%|██████████| 10/10 [00:00<00:00, 28.17it/s]\n"
          ]
        },
        {
          "output_type": "stream",
          "name": "stdout",
          "text": [
            "\n",
            "Accuracy: 0.74\n",
            "AUC: 0.9543247486325126\n",
            "F1 Score: 4.896641953772352\n",
            "Confusion Matrix:\n",
            "tensor([[ 2.,  0.,  0., 11.,  4.,  0.,  0.,  0.],\n",
            "        [ 1., 57.,  0.,  1.,  0.,  0.,  1.,  0.],\n",
            "        [ 0.,  0.,  9.,  5.,  7.,  0.,  1.,  4.],\n",
            "        [ 0.,  0.,  1., 40.,  1.,  0.,  2.,  0.],\n",
            "        [ 1.,  0.,  1.,  9., 14.,  0.,  0.,  0.],\n",
            "        [ 0.,  0.,  0., 24.,  0.,  0.,  1.,  0.],\n",
            "        [ 0.,  1.,  0.,  2.,  0.,  0., 56.,  0.],\n",
            "        [ 0.,  0.,  0.,  0.,  0.,  0.,  0., 44.]])\n"
          ]
        },
        {
          "output_type": "stream",
          "name": "stderr",
          "text": [
            "100%|██████████| 32/32 [00:04<00:00,  7.81it/s]\n",
            "100%|██████████| 10/10 [00:00<00:00, 24.94it/s]\n"
          ]
        },
        {
          "output_type": "stream",
          "name": "stdout",
          "text": [
            "\n",
            "Accuracy: 0.7566666666666667\n",
            "AUC: 0.9550236881993273\n",
            "F1 Score: 4.919439579684763\n",
            "Confusion Matrix:\n",
            "tensor([[ 4.,  0.,  0.,  9.,  4.,  0.,  0.,  0.],\n",
            "        [ 1., 57.,  0.,  1.,  0.,  0.,  1.,  0.],\n",
            "        [ 0.,  0., 10.,  5.,  7.,  0.,  1.,  3.],\n",
            "        [ 0.,  0.,  1., 40.,  1.,  0.,  2.,  0.],\n",
            "        [ 2.,  0.,  0.,  8., 15.,  0.,  0.,  0.],\n",
            "        [ 0.,  0.,  0., 24.,  0.,  0.,  1.,  0.],\n",
            "        [ 0.,  1.,  0.,  1.,  0.,  0., 57.,  0.],\n",
            "        [ 0.,  0.,  0.,  0.,  0.,  0.,  0., 44.]])\n"
          ]
        },
        {
          "output_type": "stream",
          "name": "stderr",
          "text": [
            "100%|██████████| 32/32 [00:02<00:00, 12.09it/s]\n",
            "100%|██████████| 10/10 [00:00<00:00, 34.61it/s]\n"
          ]
        },
        {
          "output_type": "stream",
          "name": "stdout",
          "text": [
            "\n",
            "Accuracy: 0.7533333333333333\n",
            "AUC: 0.958083416849958\n",
            "F1 Score: 4.910683012259194\n",
            "Confusion Matrix:\n",
            "tensor([[ 4.,  0.,  0.,  9.,  4.,  0.,  0.,  0.],\n",
            "        [ 1., 58.,  0.,  0.,  0.,  0.,  1.,  0.],\n",
            "        [ 0.,  0.,  9.,  5.,  7.,  0.,  1.,  4.],\n",
            "        [ 0.,  0.,  1., 40.,  1.,  0.,  2.,  0.],\n",
            "        [ 2.,  0.,  0.,  8., 15.,  0.,  0.,  0.],\n",
            "        [ 0.,  0.,  0., 24.,  0.,  0.,  1.,  0.],\n",
            "        [ 0.,  1.,  0.,  2.,  0.,  0., 56.,  0.],\n",
            "        [ 0.,  0.,  0.,  0.,  0.,  0.,  0., 44.]])\n"
          ]
        },
        {
          "output_type": "stream",
          "name": "stderr",
          "text": [
            "100%|██████████| 32/32 [00:02<00:00, 11.75it/s]\n",
            "100%|██████████| 10/10 [00:00<00:00, 24.08it/s]\n"
          ]
        },
        {
          "output_type": "stream",
          "name": "stdout",
          "text": [
            "\n",
            "Accuracy: 0.75\n",
            "AUC: 0.9596547610517333\n",
            "F1 Score: 4.909490333919156\n",
            "Confusion Matrix:\n",
            "tensor([[ 4.,  0.,  0.,  9.,  4.,  0.,  0.,  0.],\n",
            "        [ 1., 57.,  0.,  1.,  0.,  0.,  1.,  0.],\n",
            "        [ 1.,  0., 10.,  3.,  8.,  0.,  1.,  3.],\n",
            "        [ 1.,  0.,  1., 39.,  1.,  0.,  2.,  0.],\n",
            "        [ 2.,  0.,  0.,  8., 15.,  0.,  0.,  0.],\n",
            "        [ 0.,  0.,  0., 24.,  0.,  0.,  1.,  0.],\n",
            "        [ 0.,  1.,  0.,  2.,  0.,  0., 56.,  0.],\n",
            "        [ 0.,  0.,  0.,  0.,  0.,  0.,  0., 44.]])\n"
          ]
        },
        {
          "output_type": "stream",
          "name": "stderr",
          "text": [
            "100%|██████████| 32/32 [00:03<00:00, 10.36it/s]\n",
            "100%|██████████| 10/10 [00:00<00:00, 13.15it/s]\n"
          ]
        },
        {
          "output_type": "stream",
          "name": "stdout",
          "text": [
            "\n",
            "Accuracy: 0.7566666666666667\n",
            "AUC: 0.9612553630451826\n",
            "F1 Score: 4.931567328918322\n",
            "Confusion Matrix:\n",
            "tensor([[ 4.,  1.,  0.,  8.,  4.,  0.,  0.,  0.],\n",
            "        [ 1., 59.,  0.,  0.,  0.,  0.,  0.,  0.],\n",
            "        [ 2.,  0., 10.,  4.,  5.,  0.,  1.,  4.],\n",
            "        [ 2.,  0.,  1., 38.,  1.,  0.,  2.,  0.],\n",
            "        [ 2.,  0.,  0.,  8., 15.,  0.,  0.,  0.],\n",
            "        [ 0.,  0.,  0., 24.,  0.,  0.,  1.,  0.],\n",
            "        [ 0.,  1.,  0.,  1.,  0.,  0., 57.,  0.],\n",
            "        [ 0.,  0.,  0.,  0.,  0.,  0.,  0., 44.]])\n"
          ]
        },
        {
          "output_type": "stream",
          "name": "stderr",
          "text": [
            "100%|██████████| 32/32 [00:02<00:00, 13.66it/s]\n",
            "100%|██████████| 10/10 [00:00<00:00, 42.39it/s]\n"
          ]
        },
        {
          "output_type": "stream",
          "name": "stdout",
          "text": [
            "\n",
            "Accuracy: 0.7533333333333333\n",
            "AUC: 0.9618666582556223\n",
            "F1 Score: 4.914159292035398\n",
            "Confusion Matrix:\n",
            "tensor([[ 4.,  0.,  0.,  9.,  4.,  0.,  0.,  0.],\n",
            "        [ 1., 59.,  0.,  0.,  0.,  0.,  0.,  0.],\n",
            "        [ 2.,  0., 10.,  2.,  8.,  0.,  1.,  3.],\n",
            "        [ 2.,  0.,  1., 38.,  1.,  0.,  2.,  0.],\n",
            "        [ 3.,  0.,  0.,  7., 15.,  0.,  0.,  0.],\n",
            "        [ 0.,  0.,  0., 24.,  0.,  0.,  1.,  0.],\n",
            "        [ 0.,  1.,  0.,  2.,  0.,  0., 56.,  0.],\n",
            "        [ 0.,  0.,  0.,  0.,  0.,  0.,  0., 44.]])\n"
          ]
        },
        {
          "output_type": "stream",
          "name": "stderr",
          "text": [
            "100%|██████████| 32/32 [00:02<00:00, 14.43it/s]\n",
            "100%|██████████| 10/10 [00:00<00:00, 25.58it/s]\n"
          ]
        },
        {
          "output_type": "stream",
          "name": "stdout",
          "text": [
            "\n",
            "Accuracy: 0.7733333333333333\n",
            "AUC: 0.9628983280495875\n",
            "F1 Score: 4.963093145869946\n",
            "Confusion Matrix:\n",
            "tensor([[ 5.,  0.,  0.,  8.,  4.,  0.,  0.,  0.],\n",
            "        [ 1., 59.,  0.,  0.,  0.,  0.,  0.,  0.],\n",
            "        [ 2.,  0., 12.,  1.,  7.,  0.,  1.,  3.],\n",
            "        [ 2.,  0.,  1., 37.,  1.,  0.,  3.,  0.],\n",
            "        [ 0.,  0.,  0.,  8., 17.,  0.,  0.,  0.],\n",
            "        [ 0.,  0.,  0., 24.,  0.,  0.,  1.,  0.],\n",
            "        [ 0.,  0.,  0.,  1.,  0.,  0., 58.,  0.],\n",
            "        [ 0.,  0.,  0.,  0.,  0.,  0.,  0., 44.]])\n"
          ]
        },
        {
          "output_type": "stream",
          "name": "stderr",
          "text": [
            "100%|██████████| 32/32 [00:02<00:00, 13.73it/s]\n",
            "100%|██████████| 10/10 [00:00<00:00, 29.97it/s]\n"
          ]
        },
        {
          "output_type": "stream",
          "name": "stdout",
          "text": [
            "\n",
            "Accuracy: 0.7633333333333333\n",
            "AUC: 0.9648650373788006\n",
            "F1 Score: 4.925399644760214\n",
            "Confusion Matrix:\n",
            "tensor([[ 5.,  0.,  0.,  8.,  4.,  0.,  0.,  0.],\n",
            "        [ 1., 59.,  0.,  0.,  0.,  0.,  0.,  0.],\n",
            "        [ 2.,  0., 13.,  1.,  7.,  0.,  1.,  2.],\n",
            "        [ 2.,  0.,  1., 37.,  1.,  0.,  3.,  0.],\n",
            "        [ 3.,  0.,  0.,  7., 15.,  0.,  0.,  0.],\n",
            "        [ 0.,  0.,  0., 24.,  0.,  0.,  1.,  0.],\n",
            "        [ 0.,  1.,  0.,  2.,  0.,  0., 56.,  0.],\n",
            "        [ 0.,  0.,  0.,  0.,  0.,  0.,  0., 44.]])\n"
          ]
        },
        {
          "output_type": "stream",
          "name": "stderr",
          "text": [
            "100%|██████████| 32/32 [00:02<00:00, 12.72it/s]\n",
            "100%|██████████| 10/10 [00:00<00:00, 27.53it/s]\n"
          ]
        },
        {
          "output_type": "stream",
          "name": "stdout",
          "text": [
            "\n",
            "Accuracy: 0.7733333333333333\n",
            "AUC: 0.9665317057059433\n",
            "F1 Score: 4.935771632471007\n",
            "Confusion Matrix:\n",
            "tensor([[ 7.,  0.,  0.,  6.,  4.,  0.,  0.,  0.],\n",
            "        [ 1., 59.,  0.,  0.,  0.,  0.,  0.,  0.],\n",
            "        [ 2.,  0., 14.,  1.,  5.,  0.,  1.,  3.],\n",
            "        [ 2.,  1.,  1., 36.,  1.,  0.,  3.,  0.],\n",
            "        [ 4.,  0.,  0.,  6., 15.,  0.,  0.,  0.],\n",
            "        [ 1.,  0.,  0., 23.,  0.,  0.,  1.,  0.],\n",
            "        [ 0.,  1.,  0.,  1.,  0.,  0., 57.,  0.],\n",
            "        [ 0.,  0.,  0.,  0.,  0.,  0.,  0., 44.]])\n"
          ]
        },
        {
          "output_type": "stream",
          "name": "stderr",
          "text": [
            "100%|██████████| 32/32 [00:03<00:00, 10.23it/s]\n",
            "100%|██████████| 10/10 [00:00<00:00, 21.92it/s]\n"
          ]
        },
        {
          "output_type": "stream",
          "name": "stdout",
          "text": [
            "\n",
            "Accuracy: 0.7933333333333333\n",
            "AUC: 0.9684138505971571\n",
            "F1 Score: 4.936208445642408\n",
            "Confusion Matrix:\n",
            "tensor([[ 8.,  0.,  0.,  5.,  4.,  0.,  0.,  0.],\n",
            "        [ 1., 59.,  0.,  0.,  0.,  0.,  0.,  0.],\n",
            "        [ 2.,  0., 18.,  1.,  1.,  0.,  1.,  3.],\n",
            "        [ 2.,  1.,  1., 37.,  1.,  0.,  2.,  0.],\n",
            "        [ 4.,  0.,  0.,  5., 16.,  0.,  0.,  0.],\n",
            "        [ 1.,  0.,  0., 23.,  0.,  0.,  1.,  0.],\n",
            "        [ 0.,  1.,  0.,  2.,  0.,  0., 56.,  0.],\n",
            "        [ 0.,  0.,  0.,  0.,  0.,  0.,  0., 44.]])\n"
          ]
        },
        {
          "output_type": "display_data",
          "data": {
            "text/plain": [
              "<Figure size 640x480 with 1 Axes>"
            ],
            "image/png": "[encoded data removed]"
          },
          "metadata": {}
        }
      ],
      "source": [
        "# Train and validate the model\n",
        "def train_epoch(model,train_loader,optimizer,criterion,epoch,parameters):\n",
        "    train_loss_epoch = 0\n",
        "\n",
        "    for batch_idx, (X_batch, y_batch) in tqdm(enumerate(train_loader),total=len(train_loader)):\n",
        "        outputs = model(X_batch)\n",
        "\n",
        "        if parameters[\"info_task\"] == 'binary-class':\n",
        "          y_batch = y_batch.to(torch.float32)\n",
        "        else:\n",
        "          y_batch = y_batch.squeeze().long()\n",
        "\n",
        "        loss = criterion(outputs,y_batch)\n",
        "\n",
        "        train_loss_epoch += loss.item()\n",
        "\n",
        "        optimizer.zero_grad()\n",
        "        loss.backward()\n",
        "        optimizer.step()\n",
        "\n",
        "    train_loss_epoch /= parameters[\"batch_size\"]\n",
        "\n",
        "    return train_loss_epoch\n",
        "\n",
        "def validate_epoch(model,valid_loader,criterion,epoch,parameters):\n",
        "    valid_loss_epoch = 0\n",
        "\n",
        "    y_true = torch.tensor([])\n",
        "    y_score = torch.tensor([])\n",
        "\n",
        "    with torch.no_grad():\n",
        "      for batch_idx, (X_batch, y_batch) in tqdm(enumerate(valid_loader),total=len(valid_loader)):\n",
        "          outputs = model(X_batch)\n",
        "\n",
        "          if parameters[\"info_task\"] == 'binary-class':\n",
        "            y_batch = y_batch.to(torch.float32)\n",
        "          else:\n",
        "            y_batch = y_batch.squeeze().long()\n",
        "\n",
        "          loss = criterion(outputs,y_batch)\n",
        "\n",
        "          valid_loss_epoch += loss.item()\n",
        "\n",
        "          outputs = outputs.softmax(1)\n",
        "          y_batch = y_batch.resize_(len(y_batch),1)\n",
        "\n",
        "          y_true = torch.cat((y_true, y_batch),0)\n",
        "          y_score = torch.cat((y_score, outputs),0)\n",
        "\n",
        "      y_true = y_true.numpy()\n",
        "      y_score = y_score.detach().numpy()\n",
        "\n",
        "      y_labels = np.argmax(y_score,1)[...,np.newaxis]\n",
        "\n",
        "      acc = np.sum(y_true == y_labels) / np.sum(y_true == y_true)\n",
        "\n",
        "      auc = roc_auc_score(y_true,y_score,multi_class='ovr')\n",
        "      f1 = f1_score_function(y_true,y_labels)\n",
        "      matrix = confusion_matrix(torch.from_numpy(y_true),torch.from_numpy(y_labels),parameters[\"num_classes\"])\n",
        "\n",
        "      print(\"\\nAccuracy:\", acc)\n",
        "      print(\"AUC:\", auc)\n",
        "      print(\"F1 Score:\", f1.item())\n",
        "      print(\"Confusion Matrix:\")\n",
        "      print(matrix)\n",
        "\n",
        "      valid_loss_epoch /= parameters[\"batch_size\"]\n",
        "\n",
        "      return valid_loss_epoch\n",
        "\n",
        "#Dibuja una gráfica asociada a las funciones de coste para entrenamiento y validación\n",
        "def loss_function_graphics(epochs,train_loss_epoch,valid_loss_epoch):\n",
        "  plt.plot(epochs, train_loss_epoch, 'b', label='Entrenamiento')\n",
        "  plt.plot(epochs, valid_loss_epoch, 'r', label='Validación')\n",
        "  plt.title('Funciones de Pérdida en Entrenamiento y Validación')\n",
        "  plt.xlabel('Épocas')\n",
        "  plt.ylabel('Pérdida')\n",
        "  plt.legend()\n",
        "  plt.show()\n",
        "\n",
        "def f1_score_function(y_true,y_pred):\n",
        "  tp = (y_true * y_pred).sum()\n",
        "  fp = ((1 - y_true) * y_pred).sum()\n",
        "  fn = (y_true * (1 - y_pred)).sum()\n",
        "\n",
        "  precision = tp / (tp + fp)\n",
        "  recall = tp / (tp + fn)\n",
        "\n",
        "  f1 = 2 * (precision * recall) / (precision + recall)\n",
        "\n",
        "  return f1\n",
        "\n",
        "def confusion_matrix(y_true,y_pred,num_classes):\n",
        "  y_true = y_true.long()\n",
        "  y_pred = y_pred.long()\n",
        "\n",
        "  confusion_matrix = torch.zeros(num_classes,num_classes)\n",
        "\n",
        "  for t, p in zip(y_true.view(-1), y_pred.view(-1)):\n",
        "      confusion_matrix[t, p] += 1\n",
        "\n",
        "  return confusion_matrix\n",
        "\n",
        "def model_training(model,optimizer,criterion,train_loader,valid_loader,parameters):\n",
        "  train_loss_epoch = []\n",
        "  valid_loss_epoch = []\n",
        "  epochs = range(1,parameters[\"num_epochs\"]+1)\n",
        "\n",
        "  for epoch in range(parameters[\"num_epochs\"]):\n",
        "    model.train()\n",
        "    train_loss = train_epoch(model,train_loader,optimizer,criterion,epoch,parameters)\n",
        "    model.eval()\n",
        "    valid_loss = validate_epoch(model,valid_loader,criterion,epoch,parameters)\n",
        "\n",
        "    train_loss_epoch.append(train_loss)\n",
        "    valid_loss_epoch.append(valid_loss)\n",
        "\n",
        "  loss_function_graphics(epochs,train_loss_epoch,valid_loss_epoch)\n",
        "\n",
        "\n",
        "model = Net(parameters)\n",
        "\n",
        "#net_model_visualizer(model)\n",
        "\n",
        "if parameters[\"info_task\"] == 'binary-class':\n",
        "  optimizer = torch.optim.SGD(model.parameters(),lr=parameters[\"lr\"])\n",
        "  criterion = nn.BCEWithLogitsLoss()\n",
        "else:\n",
        "  optimizer = torch.optim.Adam(model.parameters(),lr=parameters[\"lr\"])\n",
        "  criterion = nn.CrossEntropyLoss()\n",
        "\n",
        "model_training(model,optimizer,criterion,train_loader,valid_loader,parameters)"
      ]
    },
    {
      "cell_type": "markdown",
      "metadata": {
        "id": "RFgraWehfxGu"
      },
      "source": [
        "#Evaluation\n",
        "\n",
        "Finally, implement the evaluation of the object clasification task. You can implement any metric you want, though the most common are accuracy and AUC (one class against all for the multiclass task). You can use torch.no_grad() for speeding up predictions when no gradients are needed.\n",
        "\n",
        "How do you compare with the MedMNIST benchmarks?"
      ]
    },
    {
      "cell_type": "code",
      "execution_count": 148,
      "metadata": {
        "id": "NXT5ny4wVv_G",
        "colab": {
          "base_uri": "https://localhost:8080/"
        },
        "outputId": "20ab76d7-7164-4cca-e95c-207e83d6afd2"
      },
      "outputs": [
        {
          "output_type": "stream",
          "name": "stderr",
          "text": [
            "100%|██████████| 19/19 [00:00<00:00, 27.58it/s]"
          ]
        },
        {
          "output_type": "stream",
          "name": "stdout",
          "text": [
            "\n",
            "Accuracy: 0.7633333333333333\n",
            "AUC: 0.9635551037409879\n",
            "F1 Score: 4.8172091964488954\n",
            "Loss Function 0.43828926980495453\n",
            "Confusion Matrix:\n",
            "tensor([[ 12.,   3.,   0.,  18.,   4.,   0.,   0.,   0.],\n",
            "        [  0., 114.,   0.,   1.,   0.,   0.,   2.,   0.],\n",
            "        [  4.,   0.,  41.,   3.,   2.,   0.,  10.,  10.],\n",
            "        [  9.,   4.,   1.,  71.,   3.,   0.,   5.,   0.],\n",
            "        [  3.,   1.,   2.,   5.,  25.,   0.,   0.,   0.],\n",
            "        [  1.,   1.,   0.,  44.,   0.,   0.,   1.,   0.],\n",
            "        [  0.,   3.,   0.,   2.,   0.,   0., 121.,   0.],\n",
            "        [  0.,   0.,   0.,   0.,   0.,   0.,   0.,  74.]])\n"
          ]
        },
        {
          "output_type": "stream",
          "name": "stderr",
          "text": [
            "\n"
          ]
        }
      ],
      "source": [
        "def model_final_test(model,test_loader,criterion,parameters):\n",
        "  model.eval()\n",
        "  test_loss_batch = []\n",
        "\n",
        "  test_loss = 0\n",
        "  y_true = torch.tensor([])\n",
        "  y_score = torch.tensor([])\n",
        "\n",
        "  with torch.no_grad():\n",
        "    for batch_idx, (X_batch, y_batch) in tqdm(enumerate(test_loader),total=len(test_loader)):\n",
        "      outputs = model(X_batch)\n",
        "      y_batch = y_batch.squeeze().long()\n",
        "\n",
        "      loss = criterion(outputs,y_batch)\n",
        "\n",
        "      test_loss += loss.item()\n",
        "\n",
        "      outputs = outputs.softmax(1)\n",
        "      y_batch = y_batch.resize_(len(y_batch),1)\n",
        "\n",
        "      y_true = torch.cat((y_true, y_batch),0)\n",
        "      y_score = torch.cat((y_score, outputs),0)\n",
        "\n",
        "    y_true = y_true.numpy()\n",
        "    y_score = y_score.detach().numpy()\n",
        "\n",
        "    y_labels = np.argmax(y_score,1)[...,np.newaxis]\n",
        "\n",
        "    test_acc = np.sum(y_true == y_labels) / np.sum(y_true == y_true)\n",
        "    test_auc = roc_auc_score(y_true,y_score,multi_class='ovr')\n",
        "    test_f1 = f1_score_function(y_true,y_labels)\n",
        "    test_matrix = confusion_matrix(torch.from_numpy(y_true),torch.from_numpy(y_labels),parameters[\"num_classes\"])\n",
        "    test_loss /= parameters[\"batch_size\"]\n",
        "\n",
        "    print(\"\\nAccuracy:\", test_acc)\n",
        "    print(\"AUC:\", test_auc)\n",
        "    print(\"F1 Score:\", test_f1.item())\n",
        "    print(\"Loss Function\",test_loss)\n",
        "    print(\"Confusion Matrix:\")\n",
        "    print(test_matrix)\n",
        "\n",
        "model_final_test(model,test_loader,criterion,parameters)"
      ]
    },
    {
      "cell_type": "markdown",
      "metadata": {
        "id": "L3x3GZbJM6n9"
      },
      "source": []
    }
  ],
  "metadata": {
    "colab": {
      "provenance": []
    },
    "kernelspec": {
      "display_name": "Python 3",
      "name": "python3"
    },
    "language_info": {
      "codemirror_mode": {
        "name": "ipython",
        "version": 3
      },
      "file_extension": ".py",
      "mimetype": "text/x-python",
      "name": "python",
      "nbconvert_exporter": "python",
      "pygments_lexer": "ipython3",
      "version": "3.6.15"
    }
  },
  "nbformat": 4,
  "nbformat_minor": 0
}